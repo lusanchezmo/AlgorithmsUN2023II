{
  "nbformat": 4,
  "nbformat_minor": 0,
  "metadata": {
    "colab": {
      "provenance": [],
      "include_colab_link": true
    },
    "kernelspec": {
      "name": "python3",
      "display_name": "Python 3"
    },
    "language_info": {
      "name": "python"
    }
  },
  "cells": [
    {
      "cell_type": "markdown",
      "metadata": {
        "id": "view-in-github",
        "colab_type": "text"
      },
      "source": [
        "<a href=\"https://colab.research.google.com/github/lusanchezmo/AlgorithmsUN2023II/blob/main/Lab5/LAB_5_Partitions.ipynb\" target=\"_parent\"><img src=\"https://colab.research.google.com/assets/colab-badge.svg\" alt=\"Open In Colab\"/></a>"
      ]
    },
    {
      "cell_type": "markdown",
      "source": [
        "# **Name:** Esteban Carranza, Grevy Rincon y Luis Sanchez\n",
        "# **UN Id:** jcarranza, grrinconm y lusanchezmo\n",
        "# L**ist number:**\n",
        "# **Group :** 3"
      ],
      "metadata": {
        "id": "138HHQxvs_U7"
      }
    },
    {
      "cell_type": "markdown",
      "source": [
        "# Write a code that produces the the ** Bell numbers** count the possible partitions of a set.\n",
        "\n",
        "**Hint**:\n",
        ". Output the n-th Bell Number - [stackexchange](https://codegolf.stackexchange.com/questions/132379/output-the-n-th-bell-number)"
      ],
      "metadata": {
        "id": "rdu7PcWttfnz"
      }
    },
    {
      "cell_type": "markdown",
      "source": [
        "###Write a code that that prduces  list of all partititions of the set of $[n]=\\{ 1,2,3,4\\cdots , n-1, n\\}$ with $0 \\le n \\le 65$ and also list all the partitions for wich the sum of elemts of the partitions is the same constant for all."
      ],
      "metadata": {
        "id": "vSafufOkvDht"
      }
    },
    {
      "cell_type": "code",
      "source": [
        "def print_partition(ans):\n",
        "\t\"\"\"\n",
        "\tFunction to print a partition\n",
        "\t\"\"\"\n",
        "\tfor i in ans:\n",
        "\t\tprint(\"{\", end=\" \")\n",
        "\t\tfor element in i:\n",
        "\t\t\tprint(element, end=\" \")\n",
        "\t\tprint(\"}\", end=\" \")\n",
        "\tprint()\n",
        "\n",
        "\n",
        "def partition_set(set, index, ans):\n",
        "\t\"\"\"\n",
        "\tFunction to generate all partitions\n",
        "\t\"\"\"\n",
        "\tif index == len(set):\n",
        "\t\t# If we have considered all elements in the set, print the partition\n",
        "\t\tprint_partition(ans)\n",
        "\t\treturn\n",
        "\n",
        "\t# For each subset in the partition, add the current element to it and recall\n",
        "\tfor i in range(len(ans)):\n",
        "\t\tans[i].append(set[index])\n",
        "\t\tpartition_set(set, index + 1, ans)\n",
        "\t\tans[i].pop()\n",
        "\n",
        "\t# Add the current element as a singleton subset and recall\n",
        "\tans.append([set[index]])\n",
        "\tpartition_set(set, index + 1, ans)\n",
        "\tans.pop()\n",
        "\n",
        "\n",
        "def all_partitions(set):\n",
        "\t\"\"\"\n",
        "\tFunction to generate all partitions for a given set\n",
        "\t\"\"\"\n",
        "\tans = []\n",
        "\tpartition_set(set, 0, ans)\n",
        "\n",
        "\n",
        "# Main function\n",
        "if __name__ == \"__main__\":\n",
        "\t# The size of the set\n",
        "\tn = 5\n",
        "\n",
        "\t# Initialize the set as {1, 2, ..., n}\n",
        "\tset = list(range(1, n + 1))\n",
        "\n",
        "\tprint(\"All partitions of the set will be:\")\n",
        "\t# Generate all partitions of the set\n",
        "\tall_partitions(set)\n"
      ],
      "metadata": {
        "colab": {
          "base_uri": "https://localhost:8080/"
        },
        "id": "zYQ7IhH7KvS4",
        "outputId": "e8910e92-7593-4e0a-bf7b-9325b6a39d0d"
      },
      "execution_count": null,
      "outputs": [
        {
          "output_type": "stream",
          "name": "stdout",
          "text": [
            "All partitions of the set will be:\n",
            "{ 1 2 3 4 5 } \n",
            "{ 1 2 3 4 } { 5 } \n",
            "{ 1 2 3 5 } { 4 } \n",
            "{ 1 2 3 } { 4 5 } \n",
            "{ 1 2 3 } { 4 } { 5 } \n",
            "{ 1 2 4 5 } { 3 } \n",
            "{ 1 2 4 } { 3 5 } \n",
            "{ 1 2 4 } { 3 } { 5 } \n",
            "{ 1 2 5 } { 3 4 } \n",
            "{ 1 2 } { 3 4 5 } \n",
            "{ 1 2 } { 3 4 } { 5 } \n",
            "{ 1 2 5 } { 3 } { 4 } \n",
            "{ 1 2 } { 3 5 } { 4 } \n",
            "{ 1 2 } { 3 } { 4 5 } \n",
            "{ 1 2 } { 3 } { 4 } { 5 } \n",
            "{ 1 3 4 5 } { 2 } \n",
            "{ 1 3 4 } { 2 5 } \n",
            "{ 1 3 4 } { 2 } { 5 } \n",
            "{ 1 3 5 } { 2 4 } \n",
            "{ 1 3 } { 2 4 5 } \n",
            "{ 1 3 } { 2 4 } { 5 } \n",
            "{ 1 3 5 } { 2 } { 4 } \n",
            "{ 1 3 } { 2 5 } { 4 } \n",
            "{ 1 3 } { 2 } { 4 5 } \n",
            "{ 1 3 } { 2 } { 4 } { 5 } \n",
            "{ 1 4 5 } { 2 3 } \n",
            "{ 1 4 } { 2 3 5 } \n",
            "{ 1 4 } { 2 3 } { 5 } \n",
            "{ 1 5 } { 2 3 4 } \n",
            "{ 1 } { 2 3 4 5 } \n",
            "{ 1 } { 2 3 4 } { 5 } \n",
            "{ 1 5 } { 2 3 } { 4 } \n",
            "{ 1 } { 2 3 5 } { 4 } \n",
            "{ 1 } { 2 3 } { 4 5 } \n",
            "{ 1 } { 2 3 } { 4 } { 5 } \n",
            "{ 1 4 5 } { 2 } { 3 } \n",
            "{ 1 4 } { 2 5 } { 3 } \n",
            "{ 1 4 } { 2 } { 3 5 } \n",
            "{ 1 4 } { 2 } { 3 } { 5 } \n",
            "{ 1 5 } { 2 4 } { 3 } \n",
            "{ 1 } { 2 4 5 } { 3 } \n",
            "{ 1 } { 2 4 } { 3 5 } \n",
            "{ 1 } { 2 4 } { 3 } { 5 } \n",
            "{ 1 5 } { 2 } { 3 4 } \n",
            "{ 1 } { 2 5 } { 3 4 } \n",
            "{ 1 } { 2 } { 3 4 5 } \n",
            "{ 1 } { 2 } { 3 4 } { 5 } \n",
            "{ 1 5 } { 2 } { 3 } { 4 } \n",
            "{ 1 } { 2 5 } { 3 } { 4 } \n",
            "{ 1 } { 2 } { 3 5 } { 4 } \n",
            "{ 1 } { 2 } { 3 } { 4 5 } \n",
            "{ 1 } { 2 } { 3 } { 4 } { 5 } \n"
          ]
        }
      ]
    },
    {
      "cell_type": "markdown",
      "source": [
        "# Write a code that produces the partitions with all the parts havig same sum value, identify the formula for $n < 16$."
      ],
      "metadata": {
        "id": "nt9ekZ7kzjPr"
      }
    },
    {
      "cell_type": "code",
      "source": [
        "\n",
        "\n",
        "import copy\n",
        "\n",
        "conjunto = []\n",
        "\n",
        "def partition_set(s, index, ans):\n",
        "    global conjunto\n",
        "    if index == len(s):\n",
        "        conjunto.append(copy.deepcopy(ans))\n",
        "        return\n",
        "\n",
        "    for i in range(len(ans)):\n",
        "        ans[i].append(s[index])\n",
        "        partition_set(s, index + 1, ans)\n",
        "        ans[i].pop()\n",
        "\n",
        "    ans.append([s[index]])\n",
        "    partition_set(s, index + 1, ans)\n",
        "    ans.pop()\n",
        "\n",
        "def all_partitions(s):\n",
        "    ans = []\n",
        "    partition_set(s, 0, ans)\n",
        "\n",
        "def partitions_equal_sum(partitions):\n",
        "    print('Partitions with an equal sum in all its subsets')\n",
        "    for partitions in partitions:\n",
        "        first_sum = sum(partitions[0])\n",
        "        equal = True\n",
        "        for subset in partitions:\n",
        "            sum_elements = sum(subset)\n",
        "            if sum_elements != first_sum:\n",
        "                equal = False\n",
        "                break\n",
        "        if equal:\n",
        "            print(f'{partitions} Suma total del subset: {first_sum}')\n",
        "\n",
        "\n",
        "\n",
        "if __name__ == \"__main__\":\n",
        "    n = 5\n",
        "    s = list(range(1, n + 1))\n",
        "\n",
        "    all_partitions(s)\n",
        "    partitions_equal_sum(conjunto)\n"
      ],
      "metadata": {
        "colab": {
          "base_uri": "https://localhost:8080/"
        },
        "id": "jQlK6lqiGnIW",
        "outputId": "a388d922-e9fd-41b2-d794-e3ac0ced5b19"
      },
      "execution_count": null,
      "outputs": [
        {
          "output_type": "stream",
          "name": "stdout",
          "text": [
            "Partitions with an equal sum in all its subsets\n",
            "[[1, 2, 3, 4, 5]] Suma total del subset: 15\n",
            "[[1, 4], [2, 3], [5]] Suma total del subset: 5\n"
          ]
        }
      ]
    }
  ]
}