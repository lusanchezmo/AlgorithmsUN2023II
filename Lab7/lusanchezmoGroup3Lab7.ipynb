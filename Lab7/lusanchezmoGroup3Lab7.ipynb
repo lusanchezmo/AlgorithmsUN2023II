{
  "nbformat": 4,
  "nbformat_minor": 0,
  "metadata": {
    "colab": {
      "provenance": []
    },
    "kernelspec": {
      "name": "python3",
      "display_name": "Python 3"
    },
    "language_info": {
      "name": "python"
    }
  },
  "cells": [
    {
      "cell_type": "markdown",
      "metadata": {
        "id": "view-in-github"
      },
      "source": [
        "<a href=\"https://colab.research.google.com/github/matiuss/AlgorithmsUN2023II/blob/main/Lab7/dfmateusvGroup14Lab7.ipynb\" target=\"_parent\"><img src=\"https://colab.research.google.com/assets/colab-badge.svg\" alt=\"Open In Colab\"/></a>"
      ]
    },
    {
      "cell_type": "markdown",
      "source": [
        "##Group14\n",
        "##LAB 7 Gale-Shapley and Irving Algorithms (Groups)  [part of the first test]"
      ],
      "metadata": {
        "id": "3FckvA7qRwsW"
      }
    },
    {
      "cell_type": "markdown",
      "source": [
        "1) Find the best and worst cases for the Gale-Shapley and Irving (An Efficient Algorithm for the “Stable Roommates” Problem) Algorithms and run in Colab these algorithms for those cases for n=4 and 40."
      ],
      "metadata": {
        "id": "0iSfFlIpR2yN"
      }
    },
    {
      "cell_type": "markdown",
      "source": [
        "#Gale - Shapley Algorithm"
      ],
      "metadata": {
        "id": "2IynJxmRSB2K"
      }
    },
    {
      "cell_type": "code",
      "source": [
        "import numpy as np\n",
        "\n",
        "def prefers_partner_over_current(preferences, person, current_partner, new_partner, size):\n",
        "    for i in range(size):\n",
        "        if preferences[person][i] == new_partner:\n",
        "            return True\n",
        "        if preferences[person][i] == current_partner:\n",
        "            return False\n",
        "\n",
        "def gale_shapley_algorithm(preferences, size):\n",
        "    partner_of_woman = [-1 for i in range(size)]\n",
        "    man_free = [False for i in range(size)]\n",
        "    free_count = size\n",
        "\n",
        "    while free_count > 0:\n",
        "        man = 0\n",
        "        while man < size:\n",
        "            if not man_free[man]:\n",
        "                break\n",
        "            man += 1\n",
        "\n",
        "        woman_index = 0\n",
        "        while woman_index < size and not man_free[man]:\n",
        "            woman = preferences[man][woman_index]\n",
        "\n",
        "            if partner_of_woman[woman - size] == -1:\n",
        "                partner_of_woman[woman - size] = man\n",
        "                man_free[man] = True\n",
        "                free_count -= 1\n",
        "            else:\n",
        "                current_partner = partner_of_woman[woman - size]\n",
        "\n",
        "                if not prefers_partner_over_current(preferences, woman, current_partner, man, size):\n",
        "                    partner_of_woman[woman - size] = man\n",
        "                    man_free[man] = True\n",
        "                    man_free[current_partner] = False\n",
        "            woman_index += 1\n",
        "\n",
        "    print(\"Woman\\tMan\")\n",
        "    for i in range(size):\n",
        "        print(i + size, \"\\t\", partner_of_woman[i])\n",
        "\n",
        "# Example usage with n = 4\n",
        "size = 4\n",
        "man_preferences = [list(map(lambda l: l + size, np.random.permutation(size))) for i in range(size)]\n",
        "woman_preferences = [list(np.random.permutation(size)) for i in range(size)]\n",
        "preferences_list = man_preferences + woman_preferences\n",
        "\n",
        "print(\"n =\", size)\n",
        "gale_shapley_algorithm(preferences_list, size)\n",
        "print()\n",
        "\n",
        "# Example usage with n = 40\n",
        "size = 40\n",
        "man_preferences = [list(map(lambda l: l + size, np.random.permutation(size))) for i in range(size)]\n",
        "woman_preferences = [list(np.random.permutation(size)) for i in range(size)]\n",
        "preferences_list = man_preferences + woman_preferences\n",
        "\n",
        "print(\"n =\", size)\n",
        "gale_shapley_algorithm(preferences_list, size)\n"
      ],
      "metadata": {
        "colab": {
          "base_uri": "https://localhost:8080/"
        },
        "id": "DyuvYjDqCiuT",
        "outputId": "b2ca97f4-81f3-43ab-8440-075a932deae6"
      },
      "execution_count": 5,
      "outputs": [
        {
          "output_type": "stream",
          "name": "stdout",
          "text": [
            "n = 4\n",
            "Woman\tMan\n",
            "4 \t 3\n",
            "5 \t 1\n",
            "6 \t 0\n",
            "7 \t 2\n",
            "\n",
            "n = 40\n",
            "Woman\tMan\n",
            "40 \t 27\n",
            "41 \t 8\n",
            "42 \t 39\n",
            "43 \t 12\n",
            "44 \t 19\n",
            "45 \t 17\n",
            "46 \t 9\n",
            "47 \t 23\n",
            "48 \t 36\n",
            "49 \t 25\n",
            "50 \t 38\n",
            "51 \t 34\n",
            "52 \t 2\n",
            "53 \t 29\n",
            "54 \t 37\n",
            "55 \t 15\n",
            "56 \t 32\n",
            "57 \t 30\n",
            "58 \t 28\n",
            "59 \t 6\n",
            "60 \t 20\n",
            "61 \t 3\n",
            "62 \t 22\n",
            "63 \t 24\n",
            "64 \t 4\n",
            "65 \t 0\n",
            "66 \t 16\n",
            "67 \t 18\n",
            "68 \t 21\n",
            "69 \t 5\n",
            "70 \t 10\n",
            "71 \t 14\n",
            "72 \t 7\n",
            "73 \t 33\n",
            "74 \t 1\n",
            "75 \t 11\n",
            "76 \t 35\n",
            "77 \t 26\n",
            "78 \t 13\n",
            "79 \t 31\n"
          ]
        }
      ]
    },
    {
      "cell_type": "markdown",
      "source": [
        "#Irving Algorithm"
      ],
      "metadata": {
        "id": "-qk1TSMDfvpO"
      }
    },
    {
      "cell_type": "code",
      "source": [
        "import numpy as np\n",
        "\n",
        "def stable_marriage_irving(ranking_r, ranking_h):\n",
        "    # Keeps track of partners for individuals in R. Dictionary for indexing.\n",
        "    num_candidates = len(ranking_r)\n",
        "    r_matched = [-1 for _ in range(num_candidates)]\n",
        "    h_matched = dict()\n",
        "\n",
        "    while r_matched.count(-1) != 0:\n",
        "        for r_index in range(num_candidates):\n",
        "            if r_matched[r_index] == -1:\n",
        "                top_choice = ranking_r[r_index][0]\n",
        "                ranking_r[r_index].pop(0)  # Discard the top choice\n",
        "\n",
        "                if top_choice not in h_matched:\n",
        "                    h_matched[top_choice] = r_index\n",
        "                    r_matched[r_index] = top_choice\n",
        "                else:\n",
        "                    current_partner = h_matched[top_choice]\n",
        "                    h_preferences = ranking_h[top_choice]\n",
        "\n",
        "                    if h_preferences.index(r_index) < h_preferences.index(current_partner):\n",
        "                        h_matched[top_choice] = r_index\n",
        "                        r_matched[r_index] = top_choice\n",
        "                        r_matched[current_partner] = -1\n",
        "\n",
        "    return r_matched\n",
        "\n",
        "# Example with N = 4\n",
        "num_candidates = 4\n",
        "ranking_r_small = [list(np.random.permutation(num_candidates)) for _ in range(num_candidates)]\n",
        "ranking_h_small = [list(np.random.permutation(num_candidates)) for _ in range(num_candidates)]\n",
        "print(f\"Stable marriage for N = 4: {stable_marriage_irving(ranking_r_small, ranking_h_small)}\")\n",
        "\n",
        "# Example with N = 40\n",
        "num_candidates_large = 40\n",
        "ranking_r_large = [list(np.random.permutation(num_candidates_large)) for _ in range(num_candidates_large)]\n",
        "ranking_h_large = [list(np.random.permutation(num_candidates_large)) for _ in range(num_candidates_large)]\n",
        "print(f\"Stable marriage for N = 40: {stable_marriage_irving(ranking_r_large, ranking_h_large)}\")\n"
      ],
      "metadata": {
        "colab": {
          "base_uri": "https://localhost:8080/"
        },
        "id": "RpYxLsV4FUFc",
        "outputId": "e5970f52-cafb-4ee9-9aae-65f4eb9e6b18"
      },
      "execution_count": 9,
      "outputs": [
        {
          "output_type": "stream",
          "name": "stdout",
          "text": [
            "Stable marriage for N = 4: [0, 3, 2, 1]\n",
            "Stable marriage for N = 40: [26, 4, 36, 12, 27, 6, 1, 24, 22, 5, 23, 13, 20, 19, 17, 32, 30, 18, 21, 11, 10, 29, 0, 34, 35, 37, 38, 7, 3, 16, 25, 31, 15, 2, 33, 39, 28, 8, 14, 9]\n"
          ]
        }
      ]
    },
    {
      "cell_type": "markdown",
      "source": [
        "2) Run the Gale-Shapley Algorithm 100 times using random permutations as preference lists for n=4 and 40. Find the minimum, maximum and average number of iterations and plot the distribution of the number of iterations."
      ],
      "metadata": {
        "id": "CYj5lUk_gyp3"
      }
    },
    {
      "cell_type": "code",
      "source": [
        "import numpy as np\n",
        "import matplotlib.pyplot as plt\n",
        "\n",
        "def woman_prefers_m1_over_m(preferences, woman, man, current_partner, n):\n",
        "    for i in range(n):\n",
        "        if preferences[woman][i] == current_partner:\n",
        "            return True\n",
        "        if preferences[woman][i] == man:\n",
        "            return False\n",
        "\n",
        "def gale_shapley_algorithm(preferences, n, iterations_list):\n",
        "    women_partner = [-1 for _ in range(n)]\n",
        "    men_free = [False for _ in range(n)]\n",
        "    free_count = n\n",
        "    iterations = 0\n",
        "\n",
        "    while free_count > 0:\n",
        "        man = next((m for m in range(n) if not men_free[m]), None)\n",
        "\n",
        "        if man is not None:\n",
        "            i = 0\n",
        "            while i < n and not men_free[man]:\n",
        "                woman = preferences[man][i]\n",
        "\n",
        "                if women_partner[woman - n] == -1:\n",
        "                    women_partner[woman - n] = man\n",
        "                    men_free[man] = True\n",
        "                    free_count -= 1\n",
        "                else:\n",
        "                    current_partner = women_partner[woman - n]\n",
        "\n",
        "                    if not woman_prefers_m1_over_m(preferences, woman, man, current_partner, n):\n",
        "                        women_partner[woman - n] = man\n",
        "                        men_free[man] = True\n",
        "                        men_free[current_partner] = False\n",
        "\n",
        "                i += 1\n",
        "            iterations += 1\n",
        "\n",
        "    iterations_list.append(iterations)\n",
        "    return iterations_list\n",
        "\n",
        "def run_experiment_and_plot(n_value, num_iterations):\n",
        "    iterations_list = []\n",
        "\n",
        "    for _ in range(num_iterations):\n",
        "        men_preferences = [list(map(lambda x: x + n_value, np.random.permutation(n_value))) for _ in range(n_value)]\n",
        "        women_preferences = [list(np.random.permutation(n_value)) for _ in range(n_value)]\n",
        "        preferences_list = men_preferences + women_preferences\n",
        "\n",
        "        iterations_list = gale_shapley_algorithm(preferences_list, n_value, iterations_list)\n",
        "\n",
        "    min_iterations = min(iterations_list)\n",
        "    max_iterations = max(iterations_list)\n",
        "    avg_iterations = sum(iterations_list) / num_iterations\n",
        "\n",
        "    print(f\"For n = {n_value}:\\nMin iterations: {min_iterations}\\nMax iterations: {max_iterations}\\nAverage iterations: {avg_iterations}\")\n",
        "\n",
        "    plt.hist(iterations_list, color=\"blue\", rwidth=4)\n",
        "    plt.title(f\"n = {n_value}\")\n",
        "    plt.xlabel(\"Iterations\")\n",
        "    plt.ylabel(\"Frequency\")\n",
        "    plt.tight_layout()\n",
        "    plt.show()\n",
        "\n",
        "# N = 4\n",
        "run_experiment_and_plot(4, 100)\n",
        "\n",
        "# N = 40\n",
        "run_experiment_and_plot(40, 100)\n"
      ],
      "metadata": {
        "colab": {
          "base_uri": "https://localhost:8080/",
          "height": 1000
        },
        "id": "APXuxUV_Gdxj",
        "outputId": "857cd7e5-316f-4870-8562-2cfc9efc0af0"
      },
      "execution_count": 15,
      "outputs": [
        {
          "output_type": "stream",
          "name": "stdout",
          "text": [
            "For n = 4:\n",
            "Min iterations: 4\n",
            "Max iterations: 8\n",
            "Average iterations: 5.11\n"
          ]
        },
        {
          "output_type": "display_data",
          "data": {
            "text/plain": [
              "<Figure size 640x480 with 1 Axes>"
            ],
            "image/png": "[encoded data removed]"
          },
          "metadata": {}
        },
        {
          "output_type": "stream",
          "name": "stdout",
          "text": [
            "For n = 40:\n",
            "Min iterations: 59\n",
            "Max iterations: 101\n",
            "Average iterations: 78.03\n"
          ]
        },
        {
          "output_type": "display_data",
          "data": {
            "text/plain": [
              "<Figure size 640x480 with 1 Axes>"
            ],
            "image/png": "[encoded data removed]"
          },
          "metadata": {}
        }
      ]
    },
    {
      "cell_type": "markdown",
      "source": [
        "3) Simulate the the Gale-Shapley and Irving algorithms using random preference lists , for n=4 and 40 and generate a gift animation fo the type show in “Illustrating the Deferred Acceptance Algorithm with R"
      ],
      "metadata": {
        "id": "rYZSeEZTg8lV"
      }
    },
    {
      "cell_type": "markdown",
      "source": [
        "#Gale - Shapley Algorithm gif"
      ],
      "metadata": {
        "id": "lV8vDL8hzZUm"
      }
    },
    {
      "cell_type": "code",
      "source": [
        "from PIL import Image, ImageDraw\n",
        "import numpy as np\n",
        "import random\n",
        "\n",
        "def custom_matching_algorithm_animation(preferences):\n",
        "    num_candidates = len(preferences)\n",
        "    candidates = list(range(num_candidates))\n",
        "    partners = {}\n",
        "    frames = []  # Almacenar fotogramas para el GIF\n",
        "\n",
        "    while len(partners) < num_candidates:\n",
        "        frame = draw_frame(partners, candidates, num_candidates)\n",
        "        frames.append(frame)\n",
        "\n",
        "        if not candidates:\n",
        "            break  # Terminar si todos los candidatos están comprometidos\n",
        "\n",
        "        candidate = candidates.pop(0)\n",
        "        if not preferences[candidate]:\n",
        "            continue  # Saltar si la lista de preferencias está vacía\n",
        "        partner = preferences[candidate].pop(0)\n",
        "        current_partner = partners.get(partner)\n",
        "        if current_partner is None:\n",
        "            partners[partner] = candidate\n",
        "        else:\n",
        "            partner_preferences = preferences[partner]\n",
        "            if candidate in partner_preferences and current_partner in partner_preferences:\n",
        "                if partner_preferences.index(candidate) < partner_preferences.index(current_partner):\n",
        "                    partners[partner] = candidate\n",
        "                    candidates.append(current_partner)\n",
        "\n",
        "    # Asegurarse de que todas las parejas estén formadas\n",
        "    for partner in range(num_candidates):\n",
        "        if partner not in partners:\n",
        "            partners[partner] = None  # Asignar None a las parejas no formadas\n",
        "\n",
        "    return frames\n",
        "\n",
        "def draw_frame(partners, candidates, num_candidates):\n",
        "    img = Image.new(\"RGB\", (2000, 100), (178, 190, 181))\n",
        "    draw = ImageDraw.Draw(img)\n",
        "    cell_size = 50\n",
        "\n",
        "    for i in range(num_candidates):\n",
        "        draw.rectangle([(i * cell_size, 0), ((i + 1) * cell_size, cell_size)], outline=\"black\")\n",
        "        draw.rectangle([(i * cell_size, cell_size), ((i + 1) * cell_size, cell_size * 2)], outline=\"black\")\n",
        "        candidate = partners.get(i)\n",
        "        if candidate is not None:\n",
        "            draw.text(((i * cell_size) + 10, 10), f\"MAN{candidate}\", fill=\"black\")\n",
        "        draw.text(((i * cell_size) + 10, cell_size + 10), f\"WOMAN{i}\", fill=\"red\")\n",
        "\n",
        "    return img\n",
        "\n",
        "num_candidates = 40\n",
        "pref = [list(np.random.permutation(num_candidates)) for i in range(num_candidates)]\n",
        "preferences = dict(zip(list(range(num_candidates)), pref))\n",
        "frames = custom_matching_algorithm_animation(preferences)\n",
        "\n",
        "frames[0].save(\n",
        "    \"custom_matching_algorithm_animation40.gif\",\n",
        "    save_all=True,\n",
        "    append_images=frames[1:],\n",
        "    loop=0,\n",
        "    duration=400,\n",
        ")\n",
        "\n"
      ],
      "metadata": {
        "id": "6FhVPs9LH6OJ"
      },
      "execution_count": 31,
      "outputs": []
    },
    {
      "cell_type": "code",
      "source": [
        "# Mostrar el GIF\n",
        "from IPython.display import Image as IPImage\n",
        "from IPython.display import display\n",
        "display(IPImage(filename='custom_matching_algorithm_animation40.gif'))\n"
      ],
      "metadata": {
        "colab": {
          "base_uri": "https://localhost:8080/",
          "height": 85
        },
        "id": "5p7p94hKJdCM",
        "outputId": "650cf990-fda6-4430-c732-e8129ce23fa5"
      },
      "execution_count": 32,
      "outputs": [
        {
          "output_type": "display_data",
          "data": {
            "image/gif": "[encoded data removed]",
            "text/plain": [
              "<IPython.core.display.Image object>"
            ]
          },
          "metadata": {}
        }
      ]
    },
    {
      "cell_type": "markdown",
      "source": [
        "#Irving Algorithm gif"
      ],
      "metadata": {
        "id": "c2DrPCjx2VTz"
      }
    },
    {
      "cell_type": "code",
      "source": [
        "from PIL import Image, ImageDraw\n",
        "import numpy as np\n",
        "import random\n",
        "\n",
        "def custom_matching_algorithm_animation(preferences):\n",
        "    num_candidates = len(preferences)\n",
        "    candidates = list(range(num_candidates))\n",
        "    partners = {}\n",
        "    proposals = {candidate: {} for candidate in candidates}\n",
        "    frames = []  # Store snapshots for GIF\n",
        "\n",
        "    while len(partners) < num_candidates:\n",
        "        frame = draw_frame(partners, candidates, num_candidates)\n",
        "        frames.append(frame)\n",
        "\n",
        "        if not candidates:\n",
        "            break  # Terminate if all candidates are engaged\n",
        "\n",
        "        candidate = candidates.pop(0)\n",
        "        while True:\n",
        "            partner = preferences[candidate].pop(0)\n",
        "            if partner not in proposals[candidate]:\n",
        "                proposals[candidate][partner] = True\n",
        "                current_engagement = partners.get(partner)\n",
        "                if current_engagement is None:\n",
        "                    partners[partner] = candidate\n",
        "                    break\n",
        "                else:\n",
        "                    partner_preferences = preferences[partner]\n",
        "                    if candidate in partner_preferences and current_engagement in partner_preferences:\n",
        "                        if partner_preferences.index(candidate) < partner_preferences.index(current_engagement):\n",
        "                            partners[partner] = candidate\n",
        "                            candidates.append(current_engagement)\n",
        "                            break\n",
        "\n",
        "    # Ensure all partners are engaged\n",
        "    for partner in range(num_candidates):\n",
        "        if partner not in partners:\n",
        "            partners[partner] = None  # Assign None to unengaged partners\n",
        "\n",
        "    return frames\n",
        "\n",
        "def draw_frame(partners, candidates, num_candidates):\n",
        "    img = Image.new(\"RGB\", (2000, 100), (77, 77, 255))\n",
        "    draw = ImageDraw.Draw(img)\n",
        "    cell_size = 50\n",
        "\n",
        "    for i in range(num_candidates):\n",
        "        draw.rectangle([(i * cell_size, 0), ((i + 1) * cell_size, cell_size)], outline=\"black\")\n",
        "        draw.rectangle([(i * cell_size, cell_size), ((i + 1) * cell_size, cell_size * 2)], outline=\"black\")\n",
        "        candidate = partners.get(i)\n",
        "        if candidate is not None:\n",
        "            draw.text(((i * cell_size) + 10, 10), f\"MAN{candidate}\", fill=\"white\")\n",
        "        draw.text(((i * cell_size) + 10, cell_size + 10), f\"WOMAN{i}\", fill=\"black\")\n",
        "\n",
        "    return img\n",
        "\n",
        "num_candidates = 40\n",
        "pref = [list(np.random.permutation(num_candidates)) for i in range(num_candidates)]\n",
        "preferences = dict(zip(list(range(num_candidates)), pref))\n",
        "frames = custom_matching_algorithm_animation(preferences)\n",
        "\n",
        "frames[0].save(\n",
        "    \"custom_matching_algorithm_animation40.gif\",\n",
        "    save_all=True,\n",
        "    append_images=frames[1:],\n",
        "    loop=0,\n",
        "    duration=400,\n",
        ")\n"
      ],
      "metadata": {
        "id": "YKzmt5gN2bSp"
      },
      "execution_count": 35,
      "outputs": []
    },
    {
      "cell_type": "code",
      "source": [
        "#gif from n = 40 Irving algorithm\n",
        "from IPython.display import Image\n",
        "from IPython.display import display\n",
        "display(Image(filename='custom_matching_algorithm_animation40.gif'))"
      ],
      "metadata": {
        "colab": {
          "base_uri": "https://localhost:8080/",
          "height": 85
        },
        "id": "3YzeZdBz2-3x",
        "outputId": "f5af326d-d8de-4b65-9141-f679bf30a1e2"
      },
      "execution_count": 36,
      "outputs": [
        {
          "output_type": "display_data",
          "data": {
            "image/gif": "[encoded data removed]",
            "text/plain": [
              "<IPython.core.display.Image object>"
            ]
          },
          "metadata": {}
        }
      ]
    }
  ]
}