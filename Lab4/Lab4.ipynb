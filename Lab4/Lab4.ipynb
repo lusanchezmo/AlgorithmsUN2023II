{
  "cells": [
    {
      "cell_type": "code",
      "execution_count": 2,
      "metadata": {
        "id": "im-VVd1__7VU",
        "colab": {
          "base_uri": "https://localhost:8080/"
        },
        "outputId": "156c9486-54af-425c-dd25-7718fe41343c"
      },
      "outputs": [
        {
          "output_type": "stream",
          "name": "stdout",
          "text": [
            "processor\t: 0\n",
            "vendor_id\t: GenuineIntel\n",
            "cpu family\t: 6\n",
            "model\t\t: 79\n",
            "model name\t: Intel(R) Xeon(R) CPU @ 2.20GHz\n",
            "stepping\t: 0\n",
            "microcode\t: 0xffffffff\n",
            "cpu MHz\t\t: 2199.998\n",
            "cache size\t: 56320 KB\n",
            "physical id\t: 0\n",
            "siblings\t: 2\n",
            "core id\t\t: 0\n",
            "cpu cores\t: 1\n",
            "apicid\t\t: 0\n",
            "initial apicid\t: 0\n",
            "fpu\t\t: yes\n",
            "fpu_exception\t: yes\n",
            "cpuid level\t: 13\n",
            "wp\t\t: yes\n",
            "flags\t\t: fpu vme de pse tsc msr pae mce cx8 apic sep mtrr pge mca cmov pat pse36 clflush mmx fxsr sse sse2 ss ht syscall nx pdpe1gb rdtscp lm constant_tsc rep_good nopl xtopology nonstop_tsc cpuid tsc_known_freq pni pclmulqdq ssse3 fma cx16 pcid sse4_1 sse4_2 x2apic movbe popcnt aes xsave avx f16c rdrand hypervisor lahf_lm abm 3dnowprefetch invpcid_single ssbd ibrs ibpb stibp fsgsbase tsc_adjust bmi1 hle avx2 smep bmi2 erms invpcid rtm rdseed adx smap xsaveopt arat md_clear arch_capabilities\n",
            "bugs\t\t: cpu_meltdown spectre_v1 spectre_v2 spec_store_bypass l1tf mds swapgs taa mmio_stale_data retbleed\n",
            "bogomips\t: 4399.99\n",
            "clflush size\t: 64\n",
            "cache_alignment\t: 64\n",
            "address sizes\t: 46 bits physical, 48 bits virtual\n",
            "power management:\n",
            "\n",
            "processor\t: 1\n",
            "vendor_id\t: GenuineIntel\n",
            "cpu family\t: 6\n",
            "model\t\t: 79\n",
            "model name\t: Intel(R) Xeon(R) CPU @ 2.20GHz\n",
            "stepping\t: 0\n",
            "microcode\t: 0xffffffff\n",
            "cpu MHz\t\t: 2199.998\n",
            "cache size\t: 56320 KB\n",
            "physical id\t: 0\n",
            "siblings\t: 2\n",
            "core id\t\t: 0\n",
            "cpu cores\t: 1\n",
            "apicid\t\t: 1\n",
            "initial apicid\t: 1\n",
            "fpu\t\t: yes\n",
            "fpu_exception\t: yes\n",
            "cpuid level\t: 13\n",
            "wp\t\t: yes\n",
            "flags\t\t: fpu vme de pse tsc msr pae mce cx8 apic sep mtrr pge mca cmov pat pse36 clflush mmx fxsr sse sse2 ss ht syscall nx pdpe1gb rdtscp lm constant_tsc rep_good nopl xtopology nonstop_tsc cpuid tsc_known_freq pni pclmulqdq ssse3 fma cx16 pcid sse4_1 sse4_2 x2apic movbe popcnt aes xsave avx f16c rdrand hypervisor lahf_lm abm 3dnowprefetch invpcid_single ssbd ibrs ibpb stibp fsgsbase tsc_adjust bmi1 hle avx2 smep bmi2 erms invpcid rtm rdseed adx smap xsaveopt arat md_clear arch_capabilities\n",
            "bugs\t\t: cpu_meltdown spectre_v1 spectre_v2 spec_store_bypass l1tf mds swapgs taa mmio_stale_data retbleed\n",
            "bogomips\t: 4399.99\n",
            "clflush size\t: 64\n",
            "cache_alignment\t: 64\n",
            "address sizes\t: 46 bits physical, 48 bits virtual\n",
            "power management:\n",
            "\n"
          ]
        }
      ],
      "source": [
        "!cat /proc/cpuinfo"
      ]
    },
    {
      "cell_type": "markdown",
      "metadata": {
        "id": "N1ok_-56OjB1"
      },
      "source": [
        "# I Solving the Sum of Two Digits Programming Challenge"
      ]
    },
    {
      "cell_type": "markdown",
      "metadata": {
        "id": "MMY7kmDSO0KM"
      },
      "source": [
        "## C++"
      ]
    },
    {
      "cell_type": "code",
      "execution_count": 3,
      "metadata": {
        "id": "2pGGf9BkPNIk",
        "colab": {
          "base_uri": "https://localhost:8080/"
        },
        "outputId": "b0fd0b94-fbe4-4dce-d862-09dbe2132a3f"
      },
      "outputs": [
        {
          "output_type": "stream",
          "name": "stdout",
          "text": [
            "Writing APlusB.cpp\n"
          ]
        }
      ],
      "source": [
        "%%writefile APlusB.cpp\n",
        "#include <iostream>\n",
        "\n",
        "int sum_of_two_digits(int first_digit, int second_digit) {\n",
        "    return first_digit + second_digit;\n",
        "}\n",
        "\n",
        "int main() {\n",
        "    int a = 0;\n",
        "    int b = 0;\n",
        "    std::cin >> a;\n",
        "    std::cin >> b;\n",
        "    std::cout << sum_of_two_digits(a, b);\n",
        "    return 0;\n",
        "}"
      ]
    },
    {
      "cell_type": "code",
      "execution_count": 4,
      "metadata": {
        "id": "0G3ZKOYAPXSU",
        "colab": {
          "base_uri": "https://localhost:8080/"
        },
        "outputId": "e6cbc951-9701-4c5c-fbbf-648ae7c56a9d"
      },
      "outputs": [
        {
          "output_type": "stream",
          "name": "stdout",
          "text": [
            "1\n",
            "2\n",
            "3"
          ]
        }
      ],
      "source": [
        "!g++ APlusB.cpp -o APlusB -std=c++11\n",
        "!./APlusB"
      ]
    },
    {
      "cell_type": "markdown",
      "metadata": {
        "id": "iNkG2HqfTl9c"
      },
      "source": [
        "### Test input output files"
      ]
    },
    {
      "cell_type": "code",
      "execution_count": 5,
      "metadata": {
        "id": "aTzU2efzMxly",
        "colab": {
          "base_uri": "https://localhost:8080/"
        },
        "outputId": "2719360e-f7a8-4f8e-9c71-80ffb2a61318"
      },
      "outputs": [
        {
          "output_type": "stream",
          "name": "stdout",
          "text": [
            "Writing input1.txt\n"
          ]
        }
      ],
      "source": [
        "%%writefile input1.txt\n",
        "4 8"
      ]
    },
    {
      "cell_type": "code",
      "execution_count": 6,
      "metadata": {
        "id": "zBJ0Gc0NQRet",
        "colab": {
          "base_uri": "https://localhost:8080/"
        },
        "outputId": "fb1cca15-a85e-4d8a-facb-b10b502c3f06"
      },
      "outputs": [
        {
          "output_type": "stream",
          "name": "stdout",
          "text": [
            "Writing output1.txt\n"
          ]
        }
      ],
      "source": [
        "%%writefile output1.txt\n",
        "12"
      ]
    },
    {
      "cell_type": "code",
      "execution_count": 7,
      "metadata": {
        "id": "IjEcIx63PJAN",
        "colab": {
          "base_uri": "https://localhost:8080/"
        },
        "outputId": "ddb6e790-94ee-452e-e28b-2acef5b3cf4f"
      },
      "outputs": [
        {
          "output_type": "stream",
          "name": "stdout",
          "text": [
            "Writing input2.txt\n"
          ]
        }
      ],
      "source": [
        "%%writefile input2.txt\n",
        "0 9"
      ]
    },
    {
      "cell_type": "code",
      "execution_count": 8,
      "metadata": {
        "id": "Up9gOrxURTmd",
        "colab": {
          "base_uri": "https://localhost:8080/"
        },
        "outputId": "14db314b-ca72-471b-f601-dd3dfe901429"
      },
      "outputs": [
        {
          "output_type": "stream",
          "name": "stdout",
          "text": [
            "Writing output2.txt\n"
          ]
        }
      ],
      "source": [
        "%%writefile output2.txt\n",
        "9"
      ]
    },
    {
      "cell_type": "code",
      "execution_count": 9,
      "metadata": {
        "id": "PST6G-s-Pwgc",
        "colab": {
          "base_uri": "https://localhost:8080/"
        },
        "outputId": "e1665c38-0dea-4464-bfb7-37544c463f89"
      },
      "outputs": [
        {
          "output_type": "stream",
          "name": "stdout",
          "text": [
            "12"
          ]
        }
      ],
      "source": [
        "!./APlusB < input1.txt"
      ]
    },
    {
      "cell_type": "code",
      "execution_count": 10,
      "metadata": {
        "id": "cKxZOjSlRfIN",
        "colab": {
          "base_uri": "https://localhost:8080/"
        },
        "outputId": "60a9e7b1-ab18-49bb-f7e3-a135494a6da3"
      },
      "outputs": [
        {
          "output_type": "stream",
          "name": "stdout",
          "text": [
            "9"
          ]
        }
      ],
      "source": [
        "!./APlusB < input2.txt"
      ]
    },
    {
      "cell_type": "markdown",
      "metadata": {
        "id": "Qw2TQWCCUwqk"
      },
      "source": [
        "### Comparing files with grep\n",
        "\n",
        "https://askubuntu.com/questions/546796/comparing-two-text-files"
      ]
    },
    {
      "cell_type": "code",
      "execution_count": 11,
      "metadata": {
        "id": "WVIaAmMKU4QM"
      },
      "outputs": [],
      "source": [
        "!grep -xvFf output1.txt output1.txt"
      ]
    },
    {
      "cell_type": "code",
      "execution_count": 12,
      "metadata": {
        "id": "MQU8gPPjQuYO",
        "colab": {
          "base_uri": "https://localhost:8080/"
        },
        "outputId": "b43fe928-f874-4f21-c3a4-8e5710affcfd"
      },
      "outputs": [
        {
          "output_type": "stream",
          "name": "stdout",
          "text": [
            "9\n"
          ]
        }
      ],
      "source": [
        "!grep -xvFf output1.txt output2.txt"
      ]
    },
    {
      "cell_type": "code",
      "execution_count": 13,
      "metadata": {
        "id": "jYL9OuYBTD_l",
        "colab": {
          "base_uri": "https://localhost:8080/"
        },
        "outputId": "c6c08369-a182-4c62-d616-b5a6715da730"
      },
      "outputs": [
        {
          "output_type": "stream",
          "name": "stdout",
          "text": [
            "12\n"
          ]
        }
      ],
      "source": [
        "!grep -xvFf output2.txt output1.txt"
      ]
    },
    {
      "cell_type": "code",
      "execution_count": 14,
      "metadata": {
        "id": "Jlja0Xm4TX9M"
      },
      "outputs": [],
      "source": [
        "!./APlusB < input1.txt> ctest1.txt\n",
        "!grep -xvFf output1.txt ctest1.txt"
      ]
    },
    {
      "cell_type": "code",
      "execution_count": 15,
      "metadata": {
        "id": "g9OIUZA_QLCQ"
      },
      "outputs": [],
      "source": [
        "!./APlusB < input2.txt > ctest2.txt\n",
        "!grep -xvFf output2.txt ctest2.txt"
      ]
    },
    {
      "cell_type": "markdown",
      "metadata": {
        "id": "3BgOaDjUVJk6"
      },
      "source": [
        "## Python"
      ]
    },
    {
      "cell_type": "code",
      "execution_count": 16,
      "metadata": {
        "id": "DBvl-T0CTN_8",
        "colab": {
          "base_uri": "https://localhost:8080/"
        },
        "outputId": "38a26c4f-8fd4-4b09-c151-1cf04369df0a"
      },
      "outputs": [
        {
          "output_type": "stream",
          "name": "stdout",
          "text": [
            "Writing sum.py\n"
          ]
        }
      ],
      "source": [
        "%%writefile sum.py\n",
        "# python3\n",
        "\n",
        "def sum_of_two_digits(first_digit, second_digit):\n",
        "    return first_digit + second_digit\n",
        "\n",
        "if __name__ == '__main__':\n",
        "    a, b = map(int, input().split())\n",
        "    print(sum_of_two_digits(a, b))"
      ]
    },
    {
      "cell_type": "code",
      "execution_count": 17,
      "metadata": {
        "id": "QKoKM11_WGyF",
        "colab": {
          "base_uri": "https://localhost:8080/"
        },
        "outputId": "247d3098-7baf-478b-90bc-bc8e7afacc4e"
      },
      "outputs": [
        {
          "output_type": "stream",
          "name": "stdout",
          "text": [
            "1\n",
            "Traceback (most recent call last):\n",
            "  File \"/content/sum.py\", line 7, in <module>\n",
            "    a, b = map(int, input().split())\n",
            "ValueError: not enough values to unpack (expected 2, got 1)\n"
          ]
        }
      ],
      "source": [
        "!python sum.py"
      ]
    },
    {
      "cell_type": "code",
      "execution_count": 18,
      "metadata": {
        "id": "cocFbPRTWrqt"
      },
      "outputs": [],
      "source": [
        "!python sum.py  < input1.txt> ptest1.txt\n",
        "!grep -xvFf output1.txt ptest1.txt"
      ]
    },
    {
      "cell_type": "code",
      "execution_count": 19,
      "metadata": {
        "id": "MorKTa-XXASN"
      },
      "outputs": [],
      "source": [
        "!python sum.py  < input2.txt> ptest2.txt\n",
        "!grep -xvFf output2.txt ptest2.txt"
      ]
    },
    {
      "cell_type": "markdown",
      "metadata": {
        "id": "uvP-mOubW_5F"
      },
      "source": [
        "# II Solving The Maximum Pairwise Product Programming Challenge in C++"
      ]
    },
    {
      "cell_type": "code",
      "source": [
        "import random\n",
        "\n",
        "for i in range(30, 150):\n",
        "    cantidad_de_numeros = random.randint(2, 10**4)\n",
        "    lista = [random.randint(0, 10**4) for _ in range(cantidad_de_numeros)]\n",
        "\n",
        "    with open(f'lista_entrada{i}.txt', 'w') as input_file:\n",
        "        input_file.write(f'{cantidad_de_numeros}\\n')\n",
        "        input_file.write(' '.join(map(str, lista)))\n",
        "\n",
        "    #calcular el mayor producto con el metodo ingenuo, para despues verificar las respuestas de metodos más eficientes\n",
        "    max = -1\n",
        "    for k in range(len(lista)):\n",
        "      for j in range(len(lista)):\n",
        "        if(k!=j):\n",
        "          producto =lista[k]*lista[j]\n",
        "          if(producto >max):\n",
        "            max = producto\n",
        "\n",
        "    with open(f'resultado_esperado{i}.txt', 'w') as salida:\n",
        "        salida.write(str(max))"
      ],
      "metadata": {
        "id": "q8CDVZmsgY0I"
      },
      "execution_count": 20,
      "outputs": []
    },
    {
      "cell_type": "markdown",
      "metadata": {
        "id": "C12yoFR6Xonl"
      },
      "source": [
        "## C++"
      ]
    },
    {
      "cell_type": "code",
      "source": [
        "%%writefile max_pairwise_product_full.cpp\n",
        "#include <iostream>\n",
        "#include <vector>\n",
        "#include <algorithm>\n",
        "\n",
        "int MaxPairwiseProduct(const std::vector<int>& numbers) {\n",
        "    int max_product = 0;\n",
        "    int aux_product = 0;\n",
        "    int n = numbers.size();\n",
        "\n",
        "    for (int first = 0; first < n; ++first) {\n",
        "        for (int second = 0; second < n; ++second) {\n",
        "          if ( first != second ){\n",
        "                aux_product = numbers[first] * numbers[second];\n",
        "                if (aux_product > max_product)  max_product = aux_product;\n",
        "          }\n",
        "        }\n",
        "    }\n",
        "\n",
        "    return max_product;\n",
        "}\n",
        "\n",
        "int main() {\n",
        "    int n;\n",
        "    std::cin >> n;\n",
        "    std::vector<int> numbers(n);\n",
        "    for (int i = 0; i < n; ++i) {\n",
        "        std::cin >> numbers[i];\n",
        "    }\n",
        "\n",
        "    std::cout << MaxPairwiseProduct(numbers) << \"\\n\";\n",
        "    return 0;\n",
        "}"
      ],
      "metadata": {
        "id": "3LpfoGv2Ae81",
        "colab": {
          "base_uri": "https://localhost:8080/"
        },
        "outputId": "a35b0488-2187-4d79-80c3-93ada2454324"
      },
      "execution_count": 21,
      "outputs": [
        {
          "output_type": "stream",
          "name": "stdout",
          "text": [
            "Writing max_pairwise_product_full.cpp\n"
          ]
        }
      ]
    },
    {
      "cell_type": "code",
      "source": [
        "!g++ max_pairwise_product_full.cpp -o max_pairwise_product_full\n",
        "!./max_pairwise_product_full"
      ],
      "metadata": {
        "id": "PCVo1h6nCF9k",
        "colab": {
          "base_uri": "https://localhost:8080/"
        },
        "outputId": "caeb14d5-319a-4657-f03a-52c1cc31dd0e"
      },
      "execution_count": 22,
      "outputs": [
        {
          "output_type": "stream",
          "name": "stdout",
          "text": [
            "^C\n"
          ]
        }
      ]
    },
    {
      "cell_type": "markdown",
      "metadata": {
        "id": "m75IQQPbEHBS"
      },
      "source": [
        "$$n^2 \\ \\text{first != second  comparisons},  n^2 - n \\ \\ \\text{numbers[first] * numbers[second] products},  O(n^2)$$"
      ]
    },
    {
      "cell_type": "markdown",
      "metadata": {
        "id": "e7KhxHGNS3i0"
      },
      "source": [
        "### Test 1: Small numbers"
      ]
    },
    {
      "cell_type": "code",
      "execution_count": 23,
      "metadata": {
        "id": "e1mmTzBgShT-",
        "colab": {
          "base_uri": "https://localhost:8080/"
        },
        "outputId": "8f1eafee-bdf2-4b01-952f-52e0aaa5ca84"
      },
      "outputs": [
        {
          "output_type": "stream",
          "name": "stdout",
          "text": [
            "Overwriting input1.txt\n"
          ]
        }
      ],
      "source": [
        "%%writefile input1.txt\n",
        "10\n",
        "1 2 3 4 5 6 7 8 9 10"
      ]
    },
    {
      "cell_type": "code",
      "execution_count": 24,
      "metadata": {
        "id": "vy_uI0x7TCId",
        "colab": {
          "base_uri": "https://localhost:8080/"
        },
        "outputId": "ac71d408-720c-4891-a08e-84c0c246e706"
      },
      "outputs": [
        {
          "output_type": "stream",
          "name": "stdout",
          "text": [
            "/bin/bash: line 1: ./max_pairwise_product: No such file or directory\n"
          ]
        }
      ],
      "source": [
        "!./max_pairwise_product < input1.txt"
      ]
    },
    {
      "cell_type": "code",
      "execution_count": 25,
      "metadata": {
        "id": "xaj6f9bxC6D6",
        "colab": {
          "base_uri": "https://localhost:8080/"
        },
        "outputId": "b11414c7-2d3c-47c5-b0c1-d8a2626e3a2c"
      },
      "outputs": [
        {
          "output_type": "stream",
          "name": "stdout",
          "text": [
            "Overwriting output1.txt\n"
          ]
        }
      ],
      "source": [
        "%%writefile output1.txt\n",
        "90"
      ]
    },
    {
      "cell_type": "code",
      "execution_count": 26,
      "metadata": {
        "id": "fYCjAdA_C-wy"
      },
      "outputs": [],
      "source": [
        "!./max_pairwise_product_full< input1.txt > ctest1.txt\n",
        "!grep -xvFf output1.txt ctest1.txt"
      ]
    },
    {
      "cell_type": "code",
      "source": [
        "%%writefile input2.txt\n",
        "10\n",
        "10 9 8 7 6 5 4 3 2 1"
      ],
      "metadata": {
        "id": "ZPe40LY14_6f",
        "colab": {
          "base_uri": "https://localhost:8080/"
        },
        "outputId": "1d77c18f-7526-420e-e88a-f92228869284"
      },
      "execution_count": 27,
      "outputs": [
        {
          "output_type": "stream",
          "name": "stdout",
          "text": [
            "Overwriting input2.txt\n"
          ]
        }
      ]
    },
    {
      "cell_type": "code",
      "source": [
        "%%writefile output2.txt\n",
        "90"
      ],
      "metadata": {
        "id": "xiHmF7HA5Faa",
        "colab": {
          "base_uri": "https://localhost:8080/"
        },
        "outputId": "c73b6714-68ce-4413-c1c8-71eb9486b964"
      },
      "execution_count": 28,
      "outputs": [
        {
          "output_type": "stream",
          "name": "stdout",
          "text": [
            "Overwriting output2.txt\n"
          ]
        }
      ]
    },
    {
      "cell_type": "code",
      "source": [
        "!./max_pairwise_product_full< input2.txt > ctest2.txt\n",
        "!grep -xvFf output2.txt ctest2.txt"
      ],
      "metadata": {
        "id": "jjwc9kwb5t_k"
      },
      "execution_count": 29,
      "outputs": []
    },
    {
      "cell_type": "markdown",
      "metadata": {
        "id": "IeZ3kTjpYmR9"
      },
      "source": [
        "### Test 2: largest input numbers 200000 200000 in the input"
      ]
    },
    {
      "cell_type": "code",
      "execution_count": 30,
      "metadata": {
        "id": "LQNlZqaqYt7U",
        "colab": {
          "base_uri": "https://localhost:8080/"
        },
        "outputId": "630a5d48-c612-49bc-d961-66793f1d4457"
      },
      "outputs": [
        {
          "output_type": "stream",
          "name": "stdout",
          "text": [
            "Writing input3.txt\n"
          ]
        }
      ],
      "source": [
        "%%writefile input3.txt\n",
        "6\n",
        "1 3 200000 9 200000 23"
      ]
    },
    {
      "cell_type": "code",
      "execution_count": 31,
      "metadata": {
        "id": "GjQq7QOUCw-9",
        "colab": {
          "base_uri": "https://localhost:8080/"
        },
        "outputId": "54751a71-915e-433f-c60e-bf0853c51f5b"
      },
      "outputs": [
        {
          "output_type": "execute_result",
          "data": {
            "text/plain": [
              "40000000000"
            ]
          },
          "metadata": {},
          "execution_count": 31
        }
      ],
      "source": [
        "200000*200000"
      ]
    },
    {
      "cell_type": "code",
      "execution_count": 32,
      "metadata": {
        "id": "EuS6n3jtDK5C",
        "colab": {
          "base_uri": "https://localhost:8080/"
        },
        "outputId": "ae24e9eb-9059-4f2c-ebec-131da753c3b3"
      },
      "outputs": [
        {
          "output_type": "stream",
          "name": "stdout",
          "text": [
            "Writing output3.txt\n"
          ]
        }
      ],
      "source": [
        "%%writefile output3.txt\n",
        "40000000000"
      ]
    },
    {
      "cell_type": "code",
      "execution_count": 33,
      "metadata": {
        "id": "2Wad2VZUZDxR",
        "colab": {
          "base_uri": "https://localhost:8080/"
        },
        "outputId": "d875c913-5a07-4b7c-958f-d8624497d606"
      },
      "outputs": [
        {
          "output_type": "stream",
          "name": "stdout",
          "text": [
            "1345294336\n"
          ]
        }
      ],
      "source": [
        "!./max_pairwise_product_full < input3.txt"
      ]
    },
    {
      "cell_type": "code",
      "execution_count": 34,
      "metadata": {
        "id": "pEvp1ieyDJGq",
        "colab": {
          "base_uri": "https://localhost:8080/"
        },
        "outputId": "178a6b5f-f574-4450-b5d3-ecbc87172e59"
      },
      "outputs": [
        {
          "output_type": "stream",
          "name": "stdout",
          "text": [
            "1345294336\n"
          ]
        }
      ],
      "source": [
        "!./max_pairwise_product_full < input3.txt > ctest3.txt\n",
        "!grep -xvFf output3.txt ctest3.txt"
      ]
    },
    {
      "cell_type": "code",
      "source": [
        " %%writefile run_all_test.sh\n",
        "#!/bin/bash\n",
        "g++ max_pairwise_product_full.cpp -o max_pairwise_product_full\n",
        "for i in {1..3}\n",
        "do\n",
        "    ./max_pairwise_product_full < input$i.txt > ctest$i.txt\n",
        "    grep -xvFf output$i.txt ctest$i.txt\n",
        "done"
      ],
      "metadata": {
        "id": "SrtJrKqM-God",
        "colab": {
          "base_uri": "https://localhost:8080/"
        },
        "outputId": "e06c9237-ba9e-4267-e57a-208b6a063237"
      },
      "execution_count": 35,
      "outputs": [
        {
          "output_type": "stream",
          "name": "stdout",
          "text": [
            "Writing run_all_test.sh\n"
          ]
        }
      ]
    },
    {
      "cell_type": "code",
      "source": [
        "!chmod u+x run_all_test.sh\n",
        "!./run_all_test.sh"
      ],
      "metadata": {
        "id": "wGWMHtzS-QnA",
        "colab": {
          "base_uri": "https://localhost:8080/"
        },
        "outputId": "7b73fffa-bdf8-4795-8e3f-e34c3b498038"
      },
      "execution_count": 36,
      "outputs": [
        {
          "output_type": "stream",
          "name": "stdout",
          "text": [
            "1345294336\n"
          ]
        }
      ]
    },
    {
      "cell_type": "markdown",
      "metadata": {
        "id": "H2SC0Qt5HCzz"
      },
      "source": [
        "Changing the variables to long long"
      ]
    },
    {
      "cell_type": "code",
      "execution_count": 37,
      "metadata": {
        "id": "MPcmsxiQZSfE",
        "colab": {
          "base_uri": "https://localhost:8080/"
        },
        "outputId": "3a66802e-9eb6-4108-8d75-6d472ae4355b"
      },
      "outputs": [
        {
          "output_type": "stream",
          "name": "stdout",
          "text": [
            "Writing max_pairwise_product_long_full.cpp\n"
          ]
        }
      ],
      "source": [
        "%%writefile max_pairwise_product_long_full.cpp\n",
        "#include <iostream>\n",
        "#include <vector>\n",
        "#include <algorithm>\n",
        "\n",
        "long long MaxPairwiseProduct(const std::vector<int>& numbers) {\n",
        "    long long max_product = 0LL;\n",
        "\t  long long aux_product = 0LL;\n",
        "    int n = numbers.size();\n",
        "\n",
        "    for (int first = 0; first < n; ++first) {\n",
        "        for (int second = 0; second < n; ++second) {\n",
        "          if ( first != second){\n",
        "                aux_product = (long long) numbers[first] * numbers[second];\n",
        "                if (aux_product > max_product)  max_product = aux_product;\n",
        "          }\n",
        "        }\n",
        "    }\n",
        "\n",
        "\n",
        "    return max_product;\n",
        "}\n",
        "\n",
        "int main() {\n",
        "    int n;\n",
        "    std::cin >> n;\n",
        "    std::vector<int> numbers(n);\n",
        "    for (int i = 0; i < n; ++i) {\n",
        "        std::cin >> numbers[i];\n",
        "    }\n",
        "\n",
        "    std::cout << MaxPairwiseProduct(numbers) << \"\\n\";\n",
        "    return 0;\n",
        "}\n"
      ]
    },
    {
      "cell_type": "code",
      "source": [
        "!g++ max_pairwise_product_long_full.cpp -o max_pairwise_product_long_full"
      ],
      "metadata": {
        "id": "W3xQpFXL6wjO"
      },
      "execution_count": 38,
      "outputs": []
    },
    {
      "cell_type": "code",
      "source": [
        "!./max_pairwise_product_long_full < input3.txt"
      ],
      "metadata": {
        "id": "H5dvN9M3R9sV",
        "colab": {
          "base_uri": "https://localhost:8080/"
        },
        "outputId": "142ff20c-a7bd-40f9-a49d-c4c7253418de"
      },
      "execution_count": 39,
      "outputs": [
        {
          "output_type": "stream",
          "name": "stdout",
          "text": [
            "40000000000\n"
          ]
        }
      ]
    },
    {
      "cell_type": "markdown",
      "source": [
        "### Runing multuple test with a bash shell"
      ],
      "metadata": {
        "id": "gx-sEYdfQ8f8"
      }
    },
    {
      "cell_type": "code",
      "source": [
        " %%writefile run_all_test.sh\n",
        "#!/bin/bash\n",
        "g++ max_pairwise_product_long_full.cpp -o max_pairwise_product_long_full\n",
        "for i in {1..3}\n",
        "do\n",
        "    ./max_pairwise_product_long_full < input$i.txt > ctest$i.txt\n",
        "    grep -xvFf output$i.txt ctest$i.txt\n",
        "done"
      ],
      "metadata": {
        "id": "O9qsq2nn7elw",
        "colab": {
          "base_uri": "https://localhost:8080/"
        },
        "outputId": "ab1b137b-1d8b-4e79-cdfc-3807e2ac0784"
      },
      "execution_count": 40,
      "outputs": [
        {
          "output_type": "stream",
          "name": "stdout",
          "text": [
            "Overwriting run_all_test.sh\n"
          ]
        }
      ]
    },
    {
      "cell_type": "code",
      "source": [
        "!chmod u+x run_all_test.sh\n",
        "!./run_all_test.sh"
      ],
      "metadata": {
        "id": "0g5kKVph7xIA"
      },
      "execution_count": 41,
      "outputs": []
    },
    {
      "cell_type": "markdown",
      "metadata": {
        "id": "XPVHkHxH6_7s"
      },
      "source": [
        "### Test 3  stress tests 6 testing cases files input4.txt/output4.txt .. input10.txt/output10.txt\n",
        "\n",
        "---\n",
        "\n"
      ]
    },
    {
      "cell_type": "code",
      "execution_count": 42,
      "metadata": {
        "id": "PwqpBmYr69fu",
        "colab": {
          "base_uri": "https://localhost:8080/"
        },
        "outputId": "24dfacf7-4ba5-47b6-94e3-90aa75ee99e7"
      },
      "outputs": [
        {
          "output_type": "stream",
          "name": "stdout",
          "text": [
            "Writing input4.txt\n"
          ]
        }
      ],
      "source": [
        "%%writefile input4.txt\n",
        "7\n",
        "1 3 200000 9 200000 23 200000\n"
      ]
    },
    {
      "cell_type": "code",
      "execution_count": 43,
      "metadata": {
        "id": "jBCkMeR6Fw4y",
        "colab": {
          "base_uri": "https://localhost:8080/"
        },
        "outputId": "06402ca8-9d46-4a7a-8666-0a6712be5776"
      },
      "outputs": [
        {
          "output_type": "stream",
          "name": "stdout",
          "text": [
            "Writing output4.txt\n"
          ]
        }
      ],
      "source": [
        "%%writefile output4.txt\n",
        "40000000000"
      ]
    },
    {
      "cell_type": "code",
      "source": [
        "%%writefile input5.txt\n",
        "2\n",
        "1 1"
      ],
      "metadata": {
        "id": "zED8V8wu-eoM",
        "colab": {
          "base_uri": "https://localhost:8080/"
        },
        "outputId": "94dea90b-e4cc-4226-cb16-b2540b29f939"
      },
      "execution_count": 44,
      "outputs": [
        {
          "output_type": "stream",
          "name": "stdout",
          "text": [
            "Writing input5.txt\n"
          ]
        }
      ]
    },
    {
      "cell_type": "code",
      "source": [
        "%%writefile output5.txt\n",
        "1"
      ],
      "metadata": {
        "id": "EPurCOTDMhI6",
        "colab": {
          "base_uri": "https://localhost:8080/"
        },
        "outputId": "5265dd4a-ac55-4d4a-b67a-4b5d8d2d973c"
      },
      "execution_count": 45,
      "outputs": [
        {
          "output_type": "stream",
          "name": "stdout",
          "text": [
            "Writing output5.txt\n"
          ]
        }
      ]
    },
    {
      "cell_type": "code",
      "source": [
        "%%writefile input6.txt\n",
        "8\n",
        "2 2 2 2 2 2 2 2"
      ],
      "metadata": {
        "id": "TVi83culMhCq",
        "colab": {
          "base_uri": "https://localhost:8080/"
        },
        "outputId": "e72591e2-a1de-4654-ebab-2254ff91345c"
      },
      "execution_count": 46,
      "outputs": [
        {
          "output_type": "stream",
          "name": "stdout",
          "text": [
            "Writing input6.txt\n"
          ]
        }
      ]
    },
    {
      "cell_type": "code",
      "source": [
        "%%writefile output6.txt\n",
        "4"
      ],
      "metadata": {
        "id": "FQoY7b0rMg8h",
        "colab": {
          "base_uri": "https://localhost:8080/"
        },
        "outputId": "c93550ae-0072-4654-f267-46e9cc1f0b90"
      },
      "execution_count": 47,
      "outputs": [
        {
          "output_type": "stream",
          "name": "stdout",
          "text": [
            "Writing output6.txt\n"
          ]
        }
      ]
    },
    {
      "cell_type": "code",
      "source": [
        "%%writefile input7.txt\n",
        "5\n",
        "1 3 200000 9 200000"
      ],
      "metadata": {
        "id": "j7rOX7DHMg2J",
        "colab": {
          "base_uri": "https://localhost:8080/"
        },
        "outputId": "bc43da49-ccb8-48d9-e6b8-3c4c8a3bbc85"
      },
      "execution_count": 48,
      "outputs": [
        {
          "output_type": "stream",
          "name": "stdout",
          "text": [
            "Writing input7.txt\n"
          ]
        }
      ]
    },
    {
      "cell_type": "code",
      "source": [
        "%%writefile output7.txt\n",
        "40000000000"
      ],
      "metadata": {
        "id": "bOJPqLtWMgvZ",
        "colab": {
          "base_uri": "https://localhost:8080/"
        },
        "outputId": "68358550-f3e9-4a02-f640-0ab14d1fe048"
      },
      "execution_count": 49,
      "outputs": [
        {
          "output_type": "stream",
          "name": "stdout",
          "text": [
            "Writing output7.txt\n"
          ]
        }
      ]
    },
    {
      "cell_type": "code",
      "source": [
        "%%writefile input8.txt\n",
        "3\n",
        "9 8 9"
      ],
      "metadata": {
        "id": "c82xIAI-MgiK",
        "colab": {
          "base_uri": "https://localhost:8080/"
        },
        "outputId": "28b49b46-8654-4cfe-fd4d-dc86055402ad"
      },
      "execution_count": 50,
      "outputs": [
        {
          "output_type": "stream",
          "name": "stdout",
          "text": [
            "Writing input8.txt\n"
          ]
        }
      ]
    },
    {
      "cell_type": "code",
      "source": [
        "%%writefile output8.txt\n",
        "81"
      ],
      "metadata": {
        "id": "rzCfZobGMegH",
        "colab": {
          "base_uri": "https://localhost:8080/"
        },
        "outputId": "9463f6ce-a11d-4dc8-abcb-b80723dd4a82"
      },
      "execution_count": 51,
      "outputs": [
        {
          "output_type": "stream",
          "name": "stdout",
          "text": [
            "Writing output8.txt\n"
          ]
        }
      ]
    },
    {
      "cell_type": "code",
      "source": [
        "%%writefile input9.txt\n",
        "4\n",
        "200000 200000 200000 200000"
      ],
      "metadata": {
        "id": "Z2DZ2Y9RMeaU",
        "colab": {
          "base_uri": "https://localhost:8080/"
        },
        "outputId": "0e1d903f-e75a-4235-af57-1009b00a9dd0"
      },
      "execution_count": 52,
      "outputs": [
        {
          "output_type": "stream",
          "name": "stdout",
          "text": [
            "Writing input9.txt\n"
          ]
        }
      ]
    },
    {
      "cell_type": "code",
      "source": [
        "%%writefile output9.txt\n",
        "40000000000"
      ],
      "metadata": {
        "id": "fi89M5VbMeTx",
        "colab": {
          "base_uri": "https://localhost:8080/"
        },
        "outputId": "3f31faa7-0d84-4776-dd63-90735b034106"
      },
      "execution_count": 53,
      "outputs": [
        {
          "output_type": "stream",
          "name": "stdout",
          "text": [
            "Writing output9.txt\n"
          ]
        }
      ]
    },
    {
      "cell_type": "code",
      "source": [
        "%%writefile input10.txt\n",
        "3\n",
        "0 0 0"
      ],
      "metadata": {
        "id": "N6V8k4qPM4tS",
        "colab": {
          "base_uri": "https://localhost:8080/"
        },
        "outputId": "779e1c93-58ab-4ef8-8b71-916636d64f73"
      },
      "execution_count": 54,
      "outputs": [
        {
          "output_type": "stream",
          "name": "stdout",
          "text": [
            "Writing input10.txt\n"
          ]
        }
      ]
    },
    {
      "cell_type": "code",
      "source": [
        "%%writefile output10.txt\n",
        "0"
      ],
      "metadata": {
        "id": "fppLMIHCMeLy",
        "colab": {
          "base_uri": "https://localhost:8080/"
        },
        "outputId": "013014d9-2429-49f7-d750-76b53dfbcbc2"
      },
      "execution_count": 55,
      "outputs": [
        {
          "output_type": "stream",
          "name": "stdout",
          "text": [
            "Writing output10.txt\n"
          ]
        }
      ]
    },
    {
      "cell_type": "code",
      "source": [
        " %%writefile run_all_test_1.sh\n",
        "#!/bin/bash\n",
        "g++ max_pairwise_product_long_full.cpp -o max_pairwise_product_long_full\n",
        "for i in {4..10}\n",
        "do\n",
        "    ./max_pairwise_product_long_full < input$i.txt > ctest$i.txt\n",
        "    grep -xvFf output$i.txt ctest$i.txt\n",
        "done"
      ],
      "metadata": {
        "id": "Pmk6u72fMeBL",
        "colab": {
          "base_uri": "https://localhost:8080/"
        },
        "outputId": "e892813e-59fd-4e20-b259-43fdc6ee024a"
      },
      "execution_count": 56,
      "outputs": [
        {
          "output_type": "stream",
          "name": "stdout",
          "text": [
            "Writing run_all_test_1.sh\n"
          ]
        }
      ]
    },
    {
      "cell_type": "code",
      "source": [
        "!chmod u+x run_all_test_1.sh\n",
        "!./run_all_test_1.sh"
      ],
      "metadata": {
        "id": "vIkaykQdN9Zg"
      },
      "execution_count": 57,
      "outputs": []
    },
    {
      "cell_type": "markdown",
      "metadata": {
        "id": "9z9yr5QkeyJF"
      },
      "source": [
        "### Test 4  time test  measure the execution time running with the the largest worst cases input11.txt  (200000 increasing numbers) and inoput12.txt (199998 increasing numbers and  200000, 200000 at the end)"
      ]
    },
    {
      "cell_type": "code",
      "source": [
        "# input11.txt 200000 increasing numbers:  1 2 .. 200000\n",
        "\n",
        "%%writefile WriteTest.cpp\n",
        "\n",
        "#include <iostream>\n",
        "#include <fstream>\n",
        "#include <cstdlib>\n",
        "\n",
        "using namespace std;\n",
        "\n",
        "int main() {\n",
        "  // Create and open a text file\n",
        "  ofstream MyFile(\"input11.txt\");\n",
        "\n",
        " MyFile << 200000 <<\"\\n\";  // n\n",
        " for (int i=1; i <200001; i++){\n",
        "     MyFile << i <<\" \";\n",
        " }\n",
        "\n",
        "  // Close the file\n",
        "  MyFile.close();\n",
        "}"
      ],
      "metadata": {
        "id": "UmB1ipWM_nSk",
        "colab": {
          "base_uri": "https://localhost:8080/"
        },
        "outputId": "30187ae2-900b-4fec-85d4-276e3bedeed9"
      },
      "execution_count": 58,
      "outputs": [
        {
          "output_type": "stream",
          "name": "stdout",
          "text": [
            "Writing WriteTest.cpp\n"
          ]
        }
      ]
    },
    {
      "cell_type": "code",
      "execution_count": 59,
      "metadata": {
        "id": "EH25TkOkZfD9"
      },
      "outputs": [],
      "source": [
        "!g++ WriteTest.cpp -o WriteTest\n",
        "!./WriteTest"
      ]
    },
    {
      "cell_type": "code",
      "source": [
        "199999 * 200000"
      ],
      "metadata": {
        "id": "j0mokSOnCCtZ",
        "colab": {
          "base_uri": "https://localhost:8080/"
        },
        "outputId": "a826f504-c899-43fc-ca9d-59452a2267ec"
      },
      "execution_count": 60,
      "outputs": [
        {
          "output_type": "execute_result",
          "data": {
            "text/plain": [
              "39999800000"
            ]
          },
          "metadata": {},
          "execution_count": 60
        }
      ]
    },
    {
      "cell_type": "code",
      "source": [
        "%%writefile output11.txt\n",
        "39999800000"
      ],
      "metadata": {
        "id": "VoDhDV73B5Mo",
        "colab": {
          "base_uri": "https://localhost:8080/"
        },
        "outputId": "01d3c374-12da-4e67-c295-e2d38789ea4e"
      },
      "execution_count": 61,
      "outputs": [
        {
          "output_type": "stream",
          "name": "stdout",
          "text": [
            "Writing output11.txt\n"
          ]
        }
      ]
    },
    {
      "cell_type": "code",
      "execution_count": 62,
      "metadata": {
        "id": "oLiMjbAIfPlX",
        "colab": {
          "base_uri": "https://localhost:8080/"
        },
        "outputId": "4e0d59f3-2fef-41a6-e98e-0382566f4228"
      },
      "outputs": [
        {
          "output_type": "stream",
          "name": "stdout",
          "text": [
            "Overwriting WriteTest.cpp\n"
          ]
        }
      ],
      "source": [
        "# input12.txt 200000 decreasing numbers and 200000, 199999 ...  2 1\n",
        "\n",
        "%%writefile WriteTest.cpp\n",
        "\n",
        "#include <iostream>\n",
        "#include <fstream>\n",
        "#include <cstdlib>\n",
        "\n",
        "using namespace std;\n",
        "\n",
        "int main() {\n",
        "  // Create and open a text file\n",
        "  ofstream MyFile(\"input12.txt\");\n",
        "\n",
        " MyFile << 200000 <<\"\\n\";  // n\n",
        " for (int i=1; i <200001; i++){\n",
        "     MyFile << 200001-i <<\" \";\n",
        " }\n",
        "\n",
        "  // Close the file\n",
        "  MyFile.close();\n",
        "}"
      ]
    },
    {
      "cell_type": "code",
      "source": [
        "!g++ WriteTest.cpp -o WriteTest\n",
        "!./WriteTest"
      ],
      "metadata": {
        "id": "oULNBr_zAd9c"
      },
      "execution_count": 63,
      "outputs": []
    },
    {
      "cell_type": "code",
      "source": [
        "%%writefile output12.txt\n",
        "39999800000"
      ],
      "metadata": {
        "id": "PQLyocaFB-y4",
        "colab": {
          "base_uri": "https://localhost:8080/"
        },
        "outputId": "b518b721-0de9-4b12-bcef-9ea3f686bdee"
      },
      "execution_count": 64,
      "outputs": [
        {
          "output_type": "stream",
          "name": "stdout",
          "text": [
            "Writing output12.txt\n"
          ]
        }
      ]
    },
    {
      "cell_type": "markdown",
      "metadata": {
        "id": "JB6f03qO-lj9"
      },
      "source": [
        "Measure time\n",
        "\n",
        "https://askubuntu.com/questions/53444/how-can-i-measure-the-execution-time-of-a-terminal-process"
      ]
    },
    {
      "cell_type": "code",
      "execution_count": 65,
      "metadata": {
        "id": "6p2QLEr576zk",
        "colab": {
          "base_uri": "https://localhost:8080/"
        },
        "outputId": "06632416-3e1f-4072-83e7-c81bd675a80b"
      },
      "outputs": [
        {
          "output_type": "stream",
          "name": "stdout",
          "text": [
            "^C\n"
          ]
        }
      ],
      "source": [
        "!g++ max_pairwise_product_long_full.cpp -o max_pairwise_product_long_full\n",
        "!time ./max_pairwise_product_long_full< input11.txt"
      ]
    },
    {
      "cell_type": "code",
      "source": [
        "!g++ max_pairwise_product_long_full.cpp -o max_pairwise_product_long_full\n",
        "!time ./max_pairwise_product_long_full< input12.txt"
      ],
      "metadata": {
        "id": "cnjCyeUdAnZj",
        "colab": {
          "base_uri": "https://localhost:8080/"
        },
        "outputId": "b728f0bd-18db-45ff-de9e-e299c19488e8"
      },
      "execution_count": 66,
      "outputs": [
        {
          "output_type": "stream",
          "name": "stdout",
          "text": [
            "^C\n"
          ]
        }
      ]
    },
    {
      "cell_type": "markdown",
      "metadata": {
        "id": "FXClpBsUJuXC"
      },
      "source": [
        "##### Calculate the number or and upper bound to the number of instructions executed by the algorithm as a function of n, add in each line a comment with the number of instructions that are executed in that line."
      ]
    },
    {
      "cell_type": "code",
      "execution_count": 67,
      "metadata": {
        "id": "uG6Mv-Pwlkii",
        "colab": {
          "base_uri": "https://localhost:8080/"
        },
        "outputId": "f0aee0be-af76-4ac3-b4f2-553d07099830"
      },
      "outputs": [
        {
          "output_type": "stream",
          "name": "stdout",
          "text": [
            "Overwriting max_pairwise_product_long_full.cpp\n"
          ]
        }
      ],
      "source": [
        "%%writefile max_pairwise_product_long_full.cpp\n",
        "#include <iostream>\n",
        "#include <vector>\n",
        "#include <algorithm>\n",
        "\n",
        "long long MaxPairwiseProduct(const std::vector<int>& numbers) {              //N inst exec by line executed\n",
        "    long long max_product = 0LL;                                             //1\n",
        "\t  long long aux_product = 0LL;                                             //1\n",
        "    int n = numbers.size();                                                  //1\n",
        "\n",
        "    for (int first = 0; first < n; ++first) {                                //1+2n\n",
        "        for (int second = 0; second < n; ++second) {                         //n + 2n**2\n",
        "          if ( first != second ){                                            //n**2\n",
        "                aux_product = numbers[first] * numbers[second];              //n**2 -n\n",
        "                if (aux_product > max_product)                               //n**2 -n\n",
        "                    max_product = aux_product;                               //[1, n**2/2 - n/2] upper bound\n",
        "          }\n",
        "        }\n",
        "    }\n",
        "\n",
        "                                                                             // --------------\n",
        "    return max_product;                                                      // 4 + n + [5*n**2+1, 11*n**2/2  - n/2]  upper bound\n",
        "}\n",
        "\n",
        "int main() {                                              //N inst exec by line executed\n",
        "    int n;                                                //1\n",
        "    std::cin >> n;                                        //1\n",
        "    std::vector<int> numbers(n);                          //n\n",
        "    for (int i = 0; i < n; ++i) {                         //1 + 2n\n",
        "        std::cin >> numbers[i];                           //n\n",
        "    }\n",
        "\n",
        "    std::cout << MaxPairwiseProduct(numbers) << \"\\n\";     //1 + 1  + 4 + n + [5*n**2+1, 11*n**2/2  - n/2]\n",
        "\n",
        "    return 0;                                             // --------------\n",
        "}                                                         //  9 + 5*n + [5*n**2+1, 11*n**2/2  - n/2]  upper bound\n"
      ]
    },
    {
      "cell_type": "markdown",
      "metadata": {
        "id": "0vTsUg8OwcHs"
      },
      "source": [
        "Count executed intructions in code"
      ]
    },
    {
      "cell_type": "code",
      "execution_count": 68,
      "metadata": {
        "id": "CuRKkqQc137V",
        "colab": {
          "base_uri": "https://localhost:8080/"
        },
        "outputId": "ad1b7150-e413-4e3f-9550-6884f2dc1db8"
      },
      "outputs": [
        {
          "output_type": "stream",
          "name": "stdout",
          "text": [
            "Writing max_pairwise_product_long_full_execints.cpp\n"
          ]
        }
      ],
      "source": [
        "%%writefile max_pairwise_product_long_full_execints.cpp\n",
        "#include <iostream>\n",
        "#include <vector>\n",
        "#include <algorithm>\n",
        "\n",
        "long long MaxPairwiseProduct(const std::vector<int>& numbers, long long &execints) {              //N inst exec by line executed\n",
        "\n",
        "    long long max_product = 0LL;                                             //1\n",
        "    execints++;\n",
        "\n",
        "\t  long long aux_product = 0LL;                                             //1\n",
        "    execints++;\n",
        "\n",
        "    int n = numbers.size();                                                  //1\n",
        "    execints++;\n",
        "\n",
        "    execints++;\n",
        "    for (int first = 0; first < n; ++first) {                                //1+2n\n",
        "        execints += 2;\n",
        "\n",
        "        execints++;\n",
        "        for (int second = 0; second < n; ++second) {                         //n + 2n**2\n",
        "          execints += 2;\n",
        "\n",
        "          execints++;\n",
        "          if ( first != second ){                                            //n**2\n",
        "                aux_product = numbers[first] * numbers[second];              //n**2 -n\n",
        "                execints++;\n",
        "\n",
        "                execints++;\n",
        "                if (aux_product > max_product){                               //n**2 -n\n",
        "                    max_product = aux_product;                               //[1,n**2/2 - n/2]  upper bound\n",
        "                    execints++;\n",
        "\n",
        "                }\n",
        "        }\n",
        "      }\n",
        "    }\n",
        "                                                                            // --------------\n",
        "    return max_product;                                                     // 4 + n + [5*n**2+1, 11*n**2/2  - n/2] upper bound\n",
        "}\n",
        "\n",
        "int main() {                                                 //N inst exec by line executed\n",
        "\n",
        "    long long execints =0LL;\n",
        "\n",
        "    int n;                                                   //1\n",
        "    execints++;\n",
        "\n",
        "    std::cin >> n;                                           //1\n",
        "    execints++;\n",
        "\n",
        "    std::vector<int> numbers(n);                             //n\n",
        "    execints += n;\n",
        "\n",
        "    execints++;\n",
        "    for (int i = 0; i < n; ++i) {                            //1 + 2n\n",
        "        execints += 2;\n",
        "\n",
        "        std::cin >> numbers[i];\n",
        "        execints++;                                          //n\n",
        "\n",
        "    }\n",
        "\n",
        "\n",
        "\n",
        "    //std::cout << MaxPairwiseProduct(numbers) << \"\\n\";      //1 + 1  + 4 + n + [5*n**2+1, 11*n**2/2  - n/2] upper bound\n",
        "\n",
        "\n",
        "    execints++;\n",
        "    int M = MaxPairwiseProduct(numbers,execints);\n",
        "\n",
        "    execints++;\n",
        "    std::cout <<  execints << \"\\n\";\n",
        "    return 0;                                                // --------------\n",
        "}                                                            // 9 + 5*n + [5*n**2+1, 11*n**2/2  - n/2]"
      ]
    },
    {
      "cell_type": "markdown",
      "source": [
        "The number of instructions executed by the algooirithm with a list of size $n$ is  \n",
        "\n",
        "$$T (n) = 9 + 5n + \\left[5n^2+1, 11\\frac{n^2}{2}  - \\frac{n}{2}\\right] \\ \\  \\text{upper bound}$$\n",
        "\n",
        "It depends on the size of the lists and  the order of the list.\n",
        "\n",
        "For the input1.txt\n",
        "```\n",
        "10\n",
        "1 2 3 4 5 6 7 8 9 10\n",
        "```\n",
        "$$T = 9 + 5(10) + 5(10)(10) +  9 + 5 + 4 + 3 + 2 + 2 + 2 + 2 + 1 + 0  = 589 $$\n",
        "\n",
        "$$T(10) \\in [560, 604]  $$\n"
      ],
      "metadata": {
        "id": "cUjHtvtdDsmr"
      }
    },
    {
      "cell_type": "code",
      "source": [
        "#The number of times that  max_product = aux_product; in the worst case is less than (n**2 -n)/2 -  upper bound\n",
        "\n",
        "   1  2  3  4  5  6  7  8  9  10\n",
        "1  x  2  3  4  5  6  7  8  9  10         9\n",
        "2  2  x  6  8  10 12 14 16 18 20         5 14\n",
        "3  3  6  x  12 15 18 21 24 27 30         4 18\n",
        "4  4  8  12 x  20 24 28 32 36 40         3 21\n",
        "5  5  10 15 20 x  30 35 40 45 50         2 23\n",
        "6  6  12 18 24 30 x  42 48 54 60         2 25\n",
        "7  7  14 21 28 35 42 x  56 63 70         2 27\n",
        "8  8  18 27 36 45 54 63 72 x  90         1 30\n",
        "10 10 20 30 40 50 60 70 60 90 x          0"
      ],
      "metadata": {
        "id": "K59xQMWiBNFj",
        "colab": {
          "base_uri": "https://localhost:8080/",
          "height": 140
        },
        "outputId": "ca414b03-6717-4c1c-a85b-5166ac8bbd0b"
      },
      "execution_count": 69,
      "outputs": [
        {
          "output_type": "error",
          "ename": "IndentationError",
          "evalue": "ignored",
          "traceback": [
            "\u001b[0;36m  File \u001b[0;32m\"<ipython-input-69-f6ebb1ba87e9>\"\u001b[0;36m, line \u001b[0;32m3\u001b[0m\n\u001b[0;31m    1  2  3  4  5  6  7  8  9  10\u001b[0m\n\u001b[0m    ^\u001b[0m\n\u001b[0;31mIndentationError\u001b[0m\u001b[0;31m:\u001b[0m unexpected indent\n"
          ]
        }
      ]
    },
    {
      "cell_type": "code",
      "source": [
        "9 + 5*(10) + 5*(10)*(10) +  9 + 5 + 4 + 3 + 2 + 2 + 2 + 2 + 1 + 0"
      ],
      "metadata": {
        "id": "E3O8dzFfEgir",
        "colab": {
          "base_uri": "https://localhost:8080/"
        },
        "outputId": "e3f55017-18ea-4c8a-8b5e-fd19fc4960c8"
      },
      "execution_count": 70,
      "outputs": [
        {
          "output_type": "execute_result",
          "data": {
            "text/plain": [
              "589"
            ]
          },
          "metadata": {},
          "execution_count": 70
        }
      ]
    },
    {
      "cell_type": "code",
      "source": [
        "n = 10\n",
        "print( 9 + 5*n + 5*n**2+1,  9 + 5*n + 11*n**2/2  - n/2)"
      ],
      "metadata": {
        "id": "TCpdl5u_Gq1a",
        "colab": {
          "base_uri": "https://localhost:8080/"
        },
        "outputId": "4cd63926-5fba-441c-af82-83edbbb2b319"
      },
      "execution_count": 72,
      "outputs": [
        {
          "output_type": "stream",
          "name": "stdout",
          "text": [
            "560 604.0\n"
          ]
        }
      ]
    },
    {
      "cell_type": "code",
      "execution_count": 73,
      "metadata": {
        "id": "Kuvm1C05ly2a",
        "colab": {
          "base_uri": "https://localhost:8080/"
        },
        "outputId": "123a8f15-0954-4421-f952-f07836d0e06b"
      },
      "outputs": [
        {
          "output_type": "stream",
          "name": "stdout",
          "text": [
            "589\n"
          ]
        }
      ],
      "source": [
        "!g++ max_pairwise_product_long_full_execints.cpp -o max_pairwise_product_long_full_execints\n",
        "!./max_pairwise_product_long_full_execints < input1.txt"
      ]
    },
    {
      "cell_type": "markdown",
      "source": [
        "\n",
        "For the input2.txt\n",
        "```\n",
        "10\n",
        "10 9 8 7 6 5 4 3 2 1\n",
        "```\n",
        "$$T = 9 + 5*(10) + 5*(10)**2 +  1  = 560 $$"
      ],
      "metadata": {
        "id": "Yr_Lb7CaHfxB"
      }
    },
    {
      "cell_type": "code",
      "source": [
        "9 + 5*(10) + 5*(10)**2 +  1"
      ],
      "metadata": {
        "id": "HOdqlwJiZUIp",
        "colab": {
          "base_uri": "https://localhost:8080/"
        },
        "outputId": "6a43a9fe-0534-49f7-c1f9-f96292e7bdf5"
      },
      "execution_count": 74,
      "outputs": [
        {
          "output_type": "execute_result",
          "data": {
            "text/plain": [
              "560"
            ]
          },
          "metadata": {},
          "execution_count": 74
        }
      ]
    },
    {
      "cell_type": "code",
      "source": [
        "!g++ max_pairwise_product_long_full_execints.cpp -o max_pairwise_product_long_full_execints\n",
        "!./max_pairwise_product_long_full_execints < input4.txt\n",
        "n= 10"
      ],
      "metadata": {
        "id": "_znzLectjFSe",
        "colab": {
          "base_uri": "https://localhost:8080/"
        },
        "outputId": "8baa05ec-4f55-414c-f5fc-63514bea7d68"
      },
      "execution_count": 75,
      "outputs": [
        {
          "output_type": "stream",
          "name": "stdout",
          "text": [
            "294\n"
          ]
        }
      ]
    },
    {
      "cell_type": "markdown",
      "metadata": {
        "id": "L_uaamxeAHK7"
      },
      "source": [
        "\n",
        "For the input12.txt\n",
        "```\n",
        "200000\n",
        "200000  199999 ... 2 1\n",
        "```\n",
        "$$T = 9 + 5*(200000) + 5*(200000)**2 +1  = 200001000010 $$\n",
        "\n"
      ]
    },
    {
      "cell_type": "code",
      "source": [
        "9 + 5*(200000) + 5*(200000)**2 +1"
      ],
      "metadata": {
        "id": "c7X-ewmeXe-h",
        "colab": {
          "base_uri": "https://localhost:8080/"
        },
        "outputId": "f4af3947-dc38-44de-ad72-88175635754e"
      },
      "execution_count": 76,
      "outputs": [
        {
          "output_type": "execute_result",
          "data": {
            "text/plain": [
              "200001000010"
            ]
          },
          "metadata": {},
          "execution_count": 76
        }
      ]
    },
    {
      "cell_type": "markdown",
      "metadata": {
        "id": "NXW7QkoBL6xH"
      },
      "source": [
        "Calculate estimated time by instruction and number of instructions by second"
      ]
    },
    {
      "cell_type": "code",
      "source": [
        "!g++ max_pairwise_product_long_full_execints.cpp -o max_pairwise_product_long_full_execints\n",
        "!./max_pairwise_product_long_full_execints < input12.txt\n"
      ],
      "metadata": {
        "id": "BMH8mF3EKn2w",
        "colab": {
          "base_uri": "https://localhost:8080/"
        },
        "outputId": "e0be50d1-e8ac-451f-e67f-42e4e4704d99"
      },
      "execution_count": 77,
      "outputs": [
        {
          "output_type": "stream",
          "name": "stdout",
          "text": [
            "^C\n"
          ]
        }
      ]
    },
    {
      "cell_type": "code",
      "execution_count": 78,
      "metadata": {
        "id": "pKqB3i7dIxnc",
        "colab": {
          "base_uri": "https://localhost:8080/"
        },
        "outputId": "7fd491ba-aef3-4802-d8b8-086fb26d84ce"
      },
      "outputs": [
        {
          "output_type": "execute_result",
          "data": {
            "text/plain": [
              "1.5299923499617505e-09"
            ]
          },
          "metadata": {},
          "execution_count": 78
        }
      ],
      "source": [
        "# Estimated time by instruction\n",
        "\n",
        "306/200001000010\n"
      ]
    },
    {
      "cell_type": "code",
      "execution_count": 79,
      "metadata": {
        "id": "18N1ouqeMhE1",
        "colab": {
          "base_uri": "https://localhost:8080/"
        },
        "outputId": "22ac8245-f38a-4a22-d8fb-2832bd199441"
      },
      "outputs": [
        {
          "output_type": "execute_result",
          "data": {
            "text/plain": [
              "1.5299923499617505e-09"
            ]
          },
          "metadata": {},
          "execution_count": 79
        }
      ],
      "source": [
        "# Estimated number of instructions by second\n",
        "\n",
        "306/200001000010"
      ]
    },
    {
      "cell_type": "markdown",
      "source": [
        "# Estimate the maximun n that can be solved in 1 second\n",
        "\n",
        "$$5n^2 \\times 1.53*10^{-9} s = 1s$$\n",
        "\n",
        "$$ n \\approx 11000$$\n"
      ],
      "metadata": {
        "id": "KyuxejFkL5X_"
      }
    },
    {
      "cell_type": "code",
      "source": [
        "# Verify input13.txt\n",
        "%%writefile WriteTest.cpp\n",
        "\n",
        "#include <iostream>\n",
        "#include <fstream>\n",
        "#include <cstdlib>\n",
        "\n",
        "using namespace std;\n",
        "\n",
        "int main() {\n",
        "  // Create and open a text file\n",
        "  ofstream MyFile(\"input13.txt\");\n",
        "\n",
        " MyFile << 11000 <<\"\\n\";  // n\n",
        " for (int i=1; i <11001; i++){\n",
        "     MyFile << i <<\" \";\n",
        " }\n",
        "\n",
        "  // Close the file\n",
        "  MyFile.close();\n",
        "}"
      ],
      "metadata": {
        "id": "WXu5jp-DLTOI",
        "colab": {
          "base_uri": "https://localhost:8080/"
        },
        "outputId": "688079a9-5649-4e4d-e8be-f62cf02862d0"
      },
      "execution_count": 80,
      "outputs": [
        {
          "output_type": "stream",
          "name": "stdout",
          "text": [
            "Overwriting WriteTest.cpp\n"
          ]
        }
      ]
    },
    {
      "cell_type": "code",
      "source": [
        "!g++ WriteTest.cpp -o WriteTest\n",
        "!./WriteTest"
      ],
      "metadata": {
        "id": "AQ8N52pUMCeT"
      },
      "execution_count": 81,
      "outputs": []
    },
    {
      "cell_type": "code",
      "source": [
        "!g++ max_pairwise_product_long_full.cpp -o max_pairwise_product_long_full\n",
        "!time ./max_pairwise_product_long_full< input13.txt"
      ],
      "metadata": {
        "id": "ussuAokfM2du",
        "colab": {
          "base_uri": "https://localhost:8080/"
        },
        "outputId": "9f0ff6ce-da73-4a25-a236-8ea00c4689f8"
      },
      "execution_count": 82,
      "outputs": [
        {
          "output_type": "stream",
          "name": "stdout",
          "text": [
            "120989000\n",
            "\n",
            "real\t0m0.886s\n",
            "user\t0m0.870s\n",
            "sys\t0m0.003s\n"
          ]
        }
      ]
    },
    {
      "cell_type": "markdown",
      "metadata": {
        "id": "Tm_AVmt-QQH4"
      },
      "source": [
        "## Python"
      ]
    },
    {
      "cell_type": "code",
      "execution_count": 83,
      "metadata": {
        "id": "gRCCcd7IQTKZ",
        "colab": {
          "base_uri": "https://localhost:8080/"
        },
        "outputId": "68cd3d99-413a-46e8-9883-8e355f53f354"
      },
      "outputs": [
        {
          "output_type": "stream",
          "name": "stdout",
          "text": [
            "Writing max_pairwise_product_long_full.py\n"
          ]
        }
      ],
      "source": [
        "%%writefile max_pairwise_product_long_full.py\n",
        "def MaxPairwiseProduct(numbers):\n",
        "  max_product = 0\n",
        "  aux_product = 0\n",
        "  n = len(numbers)\n",
        "\n",
        "  for first in range (n):\n",
        "    for second in range(n):\n",
        "      if(first != second):\n",
        "        aux_product = numbers[first]*numbers[second]\n",
        "        if aux_product > max_product:\n",
        "          max_product = aux_product\n",
        "  return max_product\n",
        "\n",
        "n = int(input())\n",
        "numbers = [int(i) for i in input().split()]\n",
        "print(MaxPairwiseProduct(numbers))"
      ]
    },
    {
      "cell_type": "code",
      "execution_count": 84,
      "metadata": {
        "id": "kAEAoNZEQTCw",
        "colab": {
          "base_uri": "https://localhost:8080/"
        },
        "outputId": "b61ce50e-01b1-447e-dc3b-6d4d7109e145"
      },
      "outputs": [
        {
          "output_type": "stream",
          "name": "stdout",
          "text": [
            "Traceback (most recent call last):\n",
            "  File \"/content/max_pairwise_product_long_full.py\", line 16, in <module>\n",
            "    print(MaxPairwiseProduct(numbers))\n",
            "  File \"/content/max_pairwise_product_long_full.py\", line 10, in MaxPairwiseProduct\n",
            "    if aux_product > max_product:\n",
            "KeyboardInterrupt\n",
            "^C\n"
          ]
        }
      ],
      "source": [
        "!time python3 max_pairwise_product_long_full.py < input12.txt"
      ]
    },
    {
      "cell_type": "code",
      "execution_count": 149,
      "metadata": {
        "id": "hjw7TJrDL0d-",
        "colab": {
          "base_uri": "https://localhost:8080/"
        },
        "outputId": "5944ff65-c2b8-440b-fd0c-c9d3dae87d43"
      },
      "outputs": [
        {
          "output_type": "stream",
          "name": "stdout",
          "text": [
            "Overwriting max_pairwise_product_long_full_execints.py\n"
          ]
        }
      ],
      "source": [
        "%%writefile max_pairwise_product_long_full_execints.py\n",
        "def MaxPairwiseProduct(numbers):\n",
        "  global execints\n",
        "  max_product = 0\n",
        "  execints+=1\n",
        "  aux_product = 0\n",
        "  execints+=1\n",
        "  n = len(numbers)\n",
        "  execints+=1\n",
        "\n",
        "  execints+=1\n",
        "  for first in range (n):\n",
        "    execints+=1\n",
        "\n",
        "    execints+=1\n",
        "    for second in range(n):\n",
        "      execints+=1\n",
        "\n",
        "      execints+=1\n",
        "      if(first != second):\n",
        "        execints+=1\n",
        "        aux_product = numbers[first]*numbers[second]\n",
        "        execints+=1\n",
        "        if aux_product > max_product:\n",
        "          execints+=1\n",
        "          max_product = aux_product\n",
        "          execints+=1\n",
        "  execints+=1\n",
        "  return max_product\n",
        "\n",
        "\n",
        "execints = 0\n",
        "n = int(input())\n",
        "execints+=1\n",
        "numbers = [int(i) for i in input().split()]\n",
        "execints+= n\n",
        "MaxPairwiseProduct(numbers)\n",
        "print(execints)"
      ]
    },
    {
      "cell_type": "code",
      "source": [
        "!python3 max_pairwise_product_long_full_execints.py < input12.txt"
      ],
      "metadata": {
        "id": "X_NPrUq5WGha",
        "colab": {
          "base_uri": "https://localhost:8080/"
        },
        "outputId": "f1278ac2-6c3e-4cf5-cb47-1893819fc9b0"
      },
      "execution_count": 86,
      "outputs": [
        {
          "output_type": "stream",
          "name": "stdout",
          "text": [
            "Traceback (most recent call last):\n",
            "  File \"/content/max_pairwise_product_long_full_execints.py\", line 36, in <module>\n",
            "    MaxPairwiseProduct(numbers)\n",
            "  File \"/content/max_pairwise_product_long_full_execints.py\", line 23, in MaxPairwiseProduct\n",
            "    if aux_product > max_product:\n",
            "KeyboardInterrupt\n",
            "^C\n"
          ]
        }
      ]
    },
    {
      "cell_type": "markdown",
      "source": [],
      "metadata": {
        "id": "_RpPj8KfqPV4"
      }
    },
    {
      "cell_type": "code",
      "source": [
        "3379/160000200008"
      ],
      "metadata": {
        "id": "qU8gmET6WQyi",
        "colab": {
          "base_uri": "https://localhost:8080/"
        },
        "outputId": "77ad8d1b-b582-4673-b663-f35ceea3968c"
      },
      "execution_count": 87,
      "outputs": [
        {
          "output_type": "execute_result",
          "data": {
            "text/plain": [
              "2.1118723600539563e-08"
            ]
          },
          "metadata": {},
          "execution_count": 87
        }
      ]
    },
    {
      "cell_type": "markdown",
      "source": [
        "# Estimate the maximun n that can be solved in 1 second\n",
        "\n",
        "$$5n^2 \\times 2.11*10^{-8} s = 1s$$\n",
        "\n",
        "$$ n \\approx 3000$$"
      ],
      "metadata": {
        "id": "LV_sDCm9WYZa"
      }
    },
    {
      "cell_type": "code",
      "source": [
        "# Verify input13.txt\n",
        "%%writefile WriteTest.cpp\n",
        "\n",
        "#include <iostream>\n",
        "#include <fstream>\n",
        "#include <cstdlib>\n",
        "\n",
        "using namespace std;\n",
        "\n",
        "int main() {\n",
        "  // Create and open a text file\n",
        "  ofstream MyFile(\"input14.txt\");\n",
        "\n",
        " MyFile << 11000 <<\"\\n\";  // n\n",
        " for (int i=1; i <3001; i++){\n",
        "     MyFile << i <<\" \";\n",
        " }\n",
        "\n",
        "  // Close the file\n",
        "  MyFile.close();\n",
        "}"
      ],
      "metadata": {
        "id": "bxCYNF0rWduj",
        "colab": {
          "base_uri": "https://localhost:8080/"
        },
        "outputId": "6b5730b0-8e16-4f9d-abb5-9ca764afed34"
      },
      "execution_count": 88,
      "outputs": [
        {
          "output_type": "stream",
          "name": "stdout",
          "text": [
            "Overwriting WriteTest.cpp\n"
          ]
        }
      ]
    },
    {
      "cell_type": "code",
      "source": [
        "!g++ WriteTest.cpp -o WriteTest\n",
        "!./WriteTest"
      ],
      "metadata": {
        "id": "Xina95PAqn2t"
      },
      "execution_count": 89,
      "outputs": []
    },
    {
      "cell_type": "code",
      "source": [
        "!time python3 max_pairwise_product_long_full.py < input14.txt"
      ],
      "metadata": {
        "id": "oTgAGEh2WbuT",
        "colab": {
          "base_uri": "https://localhost:8080/"
        },
        "outputId": "068e02af-897e-4534-8d63-dcec66116b66"
      },
      "execution_count": 90,
      "outputs": [
        {
          "output_type": "stream",
          "name": "stdout",
          "text": [
            "8997000\n",
            "\n",
            "real\t0m1.423s\n",
            "user\t0m1.395s\n",
            "sys\t0m0.013s\n"
          ]
        }
      ]
    },
    {
      "cell_type": "markdown",
      "metadata": {
        "id": "MKQKSC-vKePK"
      },
      "source": [
        "## Perform the same analysis for an algorithm in C++ and Python that uses\n",
        "$$\\frac{n^2 - n}{2} = O(n^2)\\ \\ \\text{products}$$"
      ]
    },
    {
      "cell_type": "code",
      "source": [
        "%%writefile WriteTest.cpp\n",
        "\n",
        "#include <iostream>\n",
        "#include <fstream>\n",
        "#include <cstdlib>\n",
        "\n",
        "using namespace std;\n",
        "\n",
        "int main() {\n",
        "  // Create and open a text file\n",
        "  ofstream MyFile(\"input15.txt\");\n",
        "\n",
        " MyFile << 10000 <<\"\\n\";  // n\n",
        " for (int i=1; i <10001; i++){\n",
        "     MyFile << 10001-i <<\" \";\n",
        " }\n",
        "\n",
        "  // Close the file\n",
        "  MyFile.close();\n",
        "}"
      ],
      "metadata": {
        "id": "rUPJwKeSBYL_",
        "colab": {
          "base_uri": "https://localhost:8080/"
        },
        "outputId": "b7634f3c-743d-4d07-ebfd-4053f667c6c4"
      },
      "execution_count": 91,
      "outputs": [
        {
          "output_type": "stream",
          "name": "stdout",
          "text": [
            "Overwriting WriteTest.cpp\n"
          ]
        }
      ]
    },
    {
      "cell_type": "code",
      "source": [
        "!g++ WriteTest.cpp -o WriteTest\n",
        "!./WriteTest"
      ],
      "metadata": {
        "id": "Uw7OjaBUBZdR"
      },
      "execution_count": 92,
      "outputs": []
    },
    {
      "cell_type": "code",
      "execution_count": 93,
      "metadata": {
        "id": "jkkHHoxSK65p",
        "colab": {
          "base_uri": "https://localhost:8080/"
        },
        "outputId": "04d4455c-2135-4c76-c3dc-bd157d9789ce"
      },
      "outputs": [
        {
          "output_type": "stream",
          "name": "stdout",
          "text": [
            "Writing max_pairwise_product.cpp\n"
          ]
        }
      ],
      "source": [
        "%%writefile max_pairwise_product.cpp\n",
        "#include <iostream>\n",
        "#include <vector>\n",
        "#include <algorithm>\n",
        "\n",
        "int MaxPairwiseProduct(const std::vector<int>& numbers) {\n",
        "    int max_product = 0;\n",
        "    int n = numbers.size();\n",
        "\n",
        "    for (int first = 0; first < n; ++first) {\n",
        "        for (int second = first + 1; second < n; ++second) {\n",
        "            max_product = std::max(max_product,\n",
        "                numbers[first] * numbers[second]);\n",
        "        }\n",
        "    }\n",
        "\n",
        "    return max_product;\n",
        "}\n",
        "\n",
        "int main() {\n",
        "    int n;\n",
        "    std::cin >> n;\n",
        "    std::vector<int> numbers(n);\n",
        "    for (int i = 0; i < n; ++i) {\n",
        "        std::cin >> numbers[i];\n",
        "    }\n",
        "\n",
        "    std::cout << MaxPairwiseProduct(numbers) << \"\\n\";\n",
        "    return 0;\n",
        "}"
      ]
    },
    {
      "cell_type": "code",
      "execution_count": 94,
      "metadata": {
        "id": "sU8-Ote7K8vz",
        "colab": {
          "base_uri": "https://localhost:8080/"
        },
        "outputId": "4ff2c0bc-13b7-4980-a8a9-3d35d750de24"
      },
      "outputs": [
        {
          "output_type": "stream",
          "name": "stdout",
          "text": [
            "Writing max_pairwise_product_long.cpp\n"
          ]
        }
      ],
      "source": [
        "%%writefile max_pairwise_product_long.cpp\n",
        "#include <iostream>\n",
        "#include <vector>\n",
        "#include <algorithm>\n",
        "\n",
        "long long MaxPairwiseProduct(const std::vector<int>& numbers) {              //N inst exec by line executed\n",
        "    long long max_product = 0LL;                                             //1\n",
        "\t  long long aux_product = 0LL;                                             //1\n",
        "    int n = numbers.size();                                                  //1\n",
        "\n",
        "    for (int first = 0; first < n; ++first) {                                //1+2n\n",
        "        for (int second = first + 1; second < n; ++second) {                 //n + (n-1)n\n",
        "\t\t\t       aux_product =  (long long) numbers[first] * numbers[second];    //(n-1)n/2\n",
        "            if (max_product < aux_product)  {                                //(n-1)n/2\n",
        "\t\t\t\t        max_product = aux_product;                                   //[0, (n-1)n/2]\n",
        "             }\n",
        "        }\n",
        "    }\n",
        "                                                                             // --------------\n",
        "    return max_product;                                                      // 4 + 3n + [2(n-1)n, 2.5 (n-1)n] upper bound\n",
        "}\n",
        "\n",
        "int main() {                                              //N inst exec by line executed\n",
        "    int n;                                                //1\n",
        "    std::cin >> n;                                        //1\n",
        "    std::vector<int> numbers(n);                          //n\n",
        "    for (int i = 0; i < n; ++i) {                         //1 + 2n\n",
        "        std::cin >> numbers[i];                           //n\n",
        "    }\n",
        "\n",
        "    std::cout << MaxPairwiseProduct(numbers) << \"\\n\";     //1 + 1  + 4 + 3n + [2(n-1)n, 2.5 (n-1)n]\n",
        "    return 0;                                             // --------------\n",
        "}                                                         // 9 + 7n + [2(n-1)n, 2.5 (n-1)n] upper bound\n"
      ]
    },
    {
      "cell_type": "code",
      "source": [
        "!g++ max_pairwise_product_long.cpp -o max_pairwise_product_long\n",
        "!time ./max_pairwise_product_long < input15.txt"
      ],
      "metadata": {
        "id": "n1_j-dIDCHZ5",
        "colab": {
          "base_uri": "https://localhost:8080/"
        },
        "outputId": "0a5522a9-7f1b-4c62-873d-40dd004fb744"
      },
      "execution_count": 95,
      "outputs": [
        {
          "output_type": "stream",
          "name": "stdout",
          "text": [
            "99990000\n",
            "\n",
            "real\t0m0.524s\n",
            "user\t0m0.493s\n",
            "sys\t0m0.004s\n"
          ]
        }
      ]
    },
    {
      "cell_type": "code",
      "source": [
        "%%writefile max_pairwise_product_long_execints.cpp\n",
        "#include <iostream>\n",
        "#include <vector>\n",
        "#include <algorithm>\n",
        "\n",
        "long long MaxPairwiseProduct(const std::vector<int>& numbers, long long &execints) {              //N inst exec by line executed\n",
        "    long long max_product = 0LL;                                             //1\n",
        "    execints++;\n",
        "\n",
        "\t  long long aux_product = 0LL;                                             //1\n",
        "    execints++;\n",
        "\n",
        "    int n = numbers.size();                                                  //1\n",
        "    execints++;\n",
        "\n",
        "    for (int first = 0; first < n; ++first) {                                //1+2n\n",
        "        execints++;\n",
        "\n",
        "        for (int second = first + 1; second < n; ++second) {                 //n + (n-1)n\n",
        "            execints++;\n",
        "\n",
        "\t\t\t      aux_product =  (long long) numbers[first] * numbers[second];    //(n-1)n/2\n",
        "            execints++;\n",
        "\n",
        "            execints++;\n",
        "            if (max_product < aux_product)  {                                //(n-1)n/2\n",
        "                execints++;\n",
        "\t\t\t\t        max_product = aux_product;                                   //[0, (n-1)n/2]\n",
        "             }\n",
        "        }\n",
        "    }\n",
        "    execints++;                                                               // --------------\n",
        "    return max_product;                                                      // 4 + 3n + [2(n-1)n, 2.5 (n-1)n] upper bound\n",
        "}\n",
        "\n",
        "int main() {                                              //N inst exec by line executed\n",
        "    long long execints =0LL;\n",
        "\n",
        "    int n;                                                //1\n",
        "    execints++;\n",
        "\n",
        "    std::cin >> n;                                        //1\n",
        "    execints++;\n",
        "\n",
        "    std::vector<int> numbers(n);                          //n\n",
        "    execints++;\n",
        "    for (int i = 0; i < n; ++i) {                         //1 + 2n\n",
        "        std::cin >> numbers[i];                           //n\n",
        "        execints++;\n",
        "    }\n",
        "\n",
        "    std::cout << MaxPairwiseProduct(numbers, execints) << \"\\n\";     //1 + 1  + 4 + 3n + [2(n-1)n, 2.5 (n-1)n]\n",
        "    execints++;\n",
        "    std::cout << execints << \"\\n\";\n",
        "    return 0;                                             // --------------\n",
        "}                                                         // 9 + 7n + [2(n-1)n, 2.5 (n-1)n] upper bound"
      ],
      "metadata": {
        "id": "OGUIaFxdMwYb",
        "colab": {
          "base_uri": "https://localhost:8080/"
        },
        "outputId": "14346626-0209-4dff-e277-78d2e412e378"
      },
      "execution_count": 96,
      "outputs": [
        {
          "output_type": "stream",
          "name": "stdout",
          "text": [
            "Writing max_pairwise_product_long_execints.cpp\n"
          ]
        }
      ]
    },
    {
      "cell_type": "code",
      "source": [
        "!g++ max_pairwise_product_long_execints.cpp -o max_pairwise_product_long_execints\n",
        "!./max_pairwise_product_long_execints < input15.txt"
      ],
      "metadata": {
        "id": "YEQrDUulN7I_",
        "colab": {
          "base_uri": "https://localhost:8080/"
        },
        "outputId": "a51a5255-9afe-45d7-f38a-806ead7d46ba"
      },
      "execution_count": 97,
      "outputs": [
        {
          "output_type": "stream",
          "name": "stdout",
          "text": [
            "99990000\n",
            "150005009\n"
          ]
        }
      ]
    },
    {
      "cell_type": "code",
      "source": [
        "0.235 / 150005009"
      ],
      "metadata": {
        "id": "QdEDpfAzOUcG",
        "colab": {
          "base_uri": "https://localhost:8080/"
        },
        "outputId": "2e1dbf13-2c6d-4bf3-a4f0-c7c4b6178841"
      },
      "execution_count": 98,
      "outputs": [
        {
          "output_type": "execute_result",
          "data": {
            "text/plain": [
              "1.5666143521913991e-09"
            ]
          },
          "metadata": {},
          "execution_count": 98
        }
      ]
    },
    {
      "cell_type": "markdown",
      "source": [
        "# Estimate the maximun n that can be solved in 1 second\n",
        "\n",
        "$$(2.5n^2 + 7n) \\times 1.56 *10^{-9} s = 1s$$\n",
        "\n",
        "$$ n \\approx 16000$$"
      ],
      "metadata": {
        "id": "1f44g3YAOae4"
      }
    },
    {
      "cell_type": "code",
      "source": [
        "%%writefile WriteTest.cpp\n",
        "\n",
        "#include <iostream>\n",
        "#include <fstream>\n",
        "#include <cstdlib>\n",
        "\n",
        "using namespace std;\n",
        "\n",
        "int main() {\n",
        "  // Create and open a text file\n",
        "  ofstream MyFile(\"input16.txt\");\n",
        "\n",
        " MyFile << 10000 <<\"\\n\";  // n\n",
        " for (int i=1; i <16001; i++){\n",
        "     MyFile << 16001-i <<\" \";\n",
        " }\n",
        "\n",
        "  // Close the file\n",
        "  MyFile.close();\n",
        "}"
      ],
      "metadata": {
        "id": "xAkTkIooPb9N",
        "colab": {
          "base_uri": "https://localhost:8080/"
        },
        "outputId": "bf5b0dcf-c9ee-424e-a8bb-74486155a3be"
      },
      "execution_count": 99,
      "outputs": [
        {
          "output_type": "stream",
          "name": "stdout",
          "text": [
            "Overwriting WriteTest.cpp\n"
          ]
        }
      ]
    },
    {
      "cell_type": "code",
      "source": [
        "!g++ WriteTest.cpp -o WriteTest\n",
        "!./WriteTest"
      ],
      "metadata": {
        "id": "yYLbrRmWPg1t"
      },
      "execution_count": 100,
      "outputs": []
    },
    {
      "cell_type": "code",
      "source": [
        "!g++ max_pairwise_product_long.cpp -o max_pairwise_product_long\n",
        "!time ./max_pairwise_product_long < input16.txt"
      ],
      "metadata": {
        "id": "VXWztfDQPmy2",
        "colab": {
          "base_uri": "https://localhost:8080/"
        },
        "outputId": "2333bbc6-a4b5-4407-a35d-2d1d4209bb71"
      },
      "execution_count": 101,
      "outputs": [
        {
          "output_type": "stream",
          "name": "stdout",
          "text": [
            "255984000\n",
            "\n",
            "real\t0m0.357s\n",
            "user\t0m0.336s\n",
            "sys\t0m0.002s\n"
          ]
        }
      ]
    },
    {
      "cell_type": "code",
      "execution_count": 102,
      "metadata": {
        "id": "5QWT3fneK8nw",
        "colab": {
          "base_uri": "https://localhost:8080/"
        },
        "outputId": "bb48c40c-db6f-46f9-cd3e-f7d9a77b182b"
      },
      "outputs": [
        {
          "output_type": "stream",
          "name": "stdout",
          "text": [
            "Writing max_pairwise_product_long.py\n"
          ]
        }
      ],
      "source": [
        "%%writefile max_pairwise_product_long.py\n",
        "def MaxPairwiseProduct(numbers):\n",
        "  max_product = 0\n",
        "  aux_product = 0\n",
        "  n = len(numbers)\n",
        "\n",
        "  for first in range (n):\n",
        "    for second in range(first+1, n):\n",
        "      aux_product = numbers[first]*numbers[second]\n",
        "      if aux_product > max_product:\n",
        "        max_product = aux_product\n",
        "  return max_product\n",
        "\n",
        "n = int(input())\n",
        "numbers = [int(i) for i in input().split()]\n",
        "print(MaxPairwiseProduct(numbers))\n"
      ]
    },
    {
      "cell_type": "code",
      "source": [
        "!time python3 max_pairwise_product_long.py < input15.txt"
      ],
      "metadata": {
        "id": "Wzofv2g6CddQ",
        "colab": {
          "base_uri": "https://localhost:8080/"
        },
        "outputId": "b2aa3003-384d-4f47-80bd-11f1feb44322"
      },
      "execution_count": 103,
      "outputs": [
        {
          "output_type": "stream",
          "name": "stdout",
          "text": [
            "99990000\n",
            "\n",
            "real\t0m6.368s\n",
            "user\t0m6.273s\n",
            "sys\t0m0.016s\n"
          ]
        }
      ]
    },
    {
      "cell_type": "code",
      "execution_count": 104,
      "metadata": {
        "id": "mxIVvm1RK8dB",
        "colab": {
          "base_uri": "https://localhost:8080/"
        },
        "outputId": "c54af3b0-0956-407c-eaab-59524854d639"
      },
      "outputs": [
        {
          "output_type": "stream",
          "name": "stdout",
          "text": [
            "Writing max_pairwise_product_long_execints.py\n"
          ]
        }
      ],
      "source": [
        "%%writefile max_pairwise_product_long_execints.py\n",
        "def MaxPairwiseProduct(numbers):\n",
        "  global execints\n",
        "  max_product = 0\n",
        "  execints+=1\n",
        "\n",
        "  aux_product = 0\n",
        "  execints+=1\n",
        "\n",
        "  n = len(numbers)\n",
        "  execints+=1\n",
        "\n",
        "  execints+=1\n",
        "  for first in range (n):\n",
        "\n",
        "    execints+=1\n",
        "    for second in range(first+1, n):\n",
        "\n",
        "      aux_product = numbers[first]*numbers[second]\n",
        "      execints+=1\n",
        "\n",
        "      if aux_product > max_product:\n",
        "        execints+=1\n",
        "        max_product = aux_product\n",
        "        execints+=1\n",
        "\n",
        "  execints+=1\n",
        "  return max_product\n",
        "\n",
        "execints = 0\n",
        "n = int(input())\n",
        "execints+=1\n",
        "numbers = [int(i) for i in input().split()]\n",
        "execints+=2*n\n",
        "print(execints)"
      ]
    },
    {
      "cell_type": "markdown",
      "metadata": {
        "id": "1Hsbd-uHOb_j"
      },
      "source": [
        "### Sort solution in C++ and Python\n",
        "\n",
        "$$ O(n \\lg n)$$\n",
        "\n",
        "**Which sorting algorithm is used in GCC?**\n",
        "https://stackoverflow.com/questions/7221257/which-sorting-algorithm-is-used-in-gcc\n",
        "\n",
        "* ...  the algorithm is called introsort, a combination between Insertionsort, Quicksort & Heapsort. ...\n",
        "\n",
        "**Introsort**\n",
        "https://en.wikipedia.org/wiki/Introsort\n",
        "\n",
        "Introsort or introspective sort is a hybrid sorting algorithm that provides both fast average performance and (asymptotically) optimal worst-case performance. It begins with quicksort, it switches to heapsort when the recursion depth exceeds a level based on (the logarithm of) the number of elements being sorted and it switches to insertion sort when the number of elements is below some threshold\n",
        "\n",
        "*   Class\tSorting algorithm\n",
        "*   Data structure\tArray\n",
        "*   Worst-case performance\t$O(n \\lg n)$\n",
        "*   Average performance\t$O(n \\lg n)$\n",
        "\n",
        "**Tinsort**\n",
        "https://en.wikipedia.org/wiki/Timsort\n",
        "\n",
        "Timsort is a hybrid, stable sorting algorithm, derived from merge sort and insertion sort, designed to perform well on many kinds of real-world data. It was implemented by Tim Peters in 2002 for use in the Python programming language.\n",
        "\n",
        "*   Class\tSorting algorithm\n",
        "*   Data structure\tArray\n",
        "*   Worst-case performance\t$O(n \\lg n)$\n",
        "*   Best-case performance $O(n)$\n",
        "*   Average performance\t$O(n \\lg n)$\n",
        "*   Worst-case space complexity $O(n)$"
      ]
    },
    {
      "cell_type": "markdown",
      "metadata": {
        "id": "WMUthAXjOb_k"
      },
      "source": [
        "Add in each line a coment with the number of intstrcution that are executed in that line"
      ]
    },
    {
      "cell_type": "code",
      "execution_count": 105,
      "metadata": {
        "id": "2-sXOmqFOb_k",
        "colab": {
          "base_uri": "https://localhost:8080/"
        },
        "outputId": "6fc958fc-8242-4f47-910e-e71ddcfc6f5d"
      },
      "outputs": [
        {
          "output_type": "stream",
          "name": "stdout",
          "text": [
            "Writing max_pairwise_product_long_sort.cpp\n"
          ]
        }
      ],
      "source": [
        "%%writefile max_pairwise_product_long_sort.cpp\n",
        "#include <iostream>\n",
        "#include <algorithm>\n",
        "#include <vector>\n",
        "\n",
        "\n",
        "int main() {                                              //N inst exec by line executed\n",
        "    int n;                                                //1\n",
        "    std::cin >> n;                                        //1\n",
        "    std::vector<int> numbers(n);                          //1\n",
        "    for (int i = 0; i < n; ++i) {\n",
        "        std::cin >> numbers[i];                           //n\n",
        "    }\n",
        "    std::sort(numbers.begin(), numbers.end());              // n lg n\n",
        "\n",
        "    std::cout << numbers[n-1] * numbers[n-2] << \"\\n\";     // 4 + n lg n + n\n",
        "    return 0;                                             // --------------\n",
        "}                                                       //\n"
      ]
    },
    {
      "cell_type": "markdown",
      "metadata": {
        "id": "v8pdV9ABOb_k"
      },
      "source": [
        "Test with inputs 1 and 2\n",
        "\n"
      ]
    },
    {
      "cell_type": "code",
      "source": [
        "!g++ max_pairwise_product_long_sort.cpp -o max_pairwise_product_long_sort\n",
        "!./max_pairwise_product_long_sort < input1.txt"
      ],
      "metadata": {
        "id": "PmxZgG5IbYrw",
        "colab": {
          "base_uri": "https://localhost:8080/"
        },
        "outputId": "7e407348-018b-4c0b-c366-15e03e1f8870"
      },
      "execution_count": 106,
      "outputs": [
        {
          "output_type": "stream",
          "name": "stdout",
          "text": [
            "90\n"
          ]
        }
      ]
    },
    {
      "cell_type": "code",
      "execution_count": 107,
      "metadata": {
        "id": "kdXAyLG4Ob_k",
        "colab": {
          "base_uri": "https://localhost:8080/"
        },
        "outputId": "1a654b85-10d4-441a-8c0f-b01db1b2f773"
      },
      "outputs": [
        {
          "output_type": "stream",
          "name": "stdout",
          "text": [
            "90\n"
          ]
        }
      ],
      "source": [
        "!g++ max_pairwise_product_long_sort.cpp -o max_pairwise_product_long_sort\n",
        "!./max_pairwise_product_long_sort < input2.txt"
      ]
    },
    {
      "cell_type": "markdown",
      "metadata": {
        "id": "Sw-5X1q1Ob_k"
      },
      "source": [
        "Test and time it with input 3"
      ]
    },
    {
      "cell_type": "code",
      "execution_count": 108,
      "metadata": {
        "id": "ryHJ30WIOb_k",
        "colab": {
          "base_uri": "https://localhost:8080/"
        },
        "outputId": "9ef7d55c-a5f2-423a-ceae-9ec537dabf00"
      },
      "outputs": [
        {
          "output_type": "stream",
          "name": "stdout",
          "text": [
            "1345294336\n",
            "\n",
            "real\t0m0.006s\n",
            "user\t0m0.002s\n",
            "sys\t0m0.000s\n"
          ]
        }
      ],
      "source": [
        "!g++ max_pairwise_product_long_sort.cpp -o max_pairwise_product_long_sort\n",
        "!time ./max_pairwise_product_long_sort < input3.txt"
      ]
    },
    {
      "cell_type": "markdown",
      "metadata": {
        "id": "oJGdPl1HOb_k"
      },
      "source": [
        "20 stress tests"
      ]
    },
    {
      "cell_type": "code",
      "execution_count": 109,
      "metadata": {
        "id": "pXHtO1dEOb_k",
        "colab": {
          "base_uri": "https://localhost:8080/"
        },
        "outputId": "d65a4b22-a220-4939-c611-3108eb403654"
      },
      "outputs": [
        {
          "output_type": "stream",
          "name": "stdout",
          "text": [
            "Writing run_all_test_2.sh\n"
          ]
        }
      ],
      "source": [
        " %%writefile run_all_test_2.sh\n",
        "#!/bin/bash\n",
        "g++ max_pairwise_product_long_sort.cpp -o max_pairwise_product_long_sort\n",
        "for i in {4..10}\n",
        "do\n",
        "    ./max_pairwise_product_long_sort < input$i.txt > ctest$i.txt\n",
        "    grep -xvFf output$i.txt ctest$i.txt\n",
        "done"
      ]
    },
    {
      "cell_type": "code",
      "source": [
        "!chmod u+x run_all_test_2.sh\n",
        "!./run_all_test_2.sh"
      ],
      "metadata": {
        "id": "sjAqKWKtDFRy",
        "colab": {
          "base_uri": "https://localhost:8080/"
        },
        "outputId": "828a94f9-0162-4e10-b767-1f9f53752fc1"
      },
      "execution_count": 110,
      "outputs": [
        {
          "output_type": "stream",
          "name": "stdout",
          "text": [
            "1345294336\n",
            "1345294336\n",
            "1345294336\n"
          ]
        }
      ]
    },
    {
      "cell_type": "code",
      "source": [
        " %%writefile run_all_test_2100.sh\n",
        "#!/bin/bash\n",
        "g++ max_pairwise_product_long_sort.cpp -o max_pairwise_product_long_sort\n",
        "for i in {30..150}\n",
        "do\n",
        "    ./max_pairwise_product_long_sort < lista_entrada$i.txt > resultado$i.txt\n",
        "    grep -xvFf resultado_esperado$i.txt resultado$i.txt\n",
        "done"
      ],
      "metadata": {
        "id": "ZuuZJNEvt-XR",
        "colab": {
          "base_uri": "https://localhost:8080/"
        },
        "outputId": "6f05ca7f-7fb9-4346-b97e-136c56b3c9cc"
      },
      "execution_count": 111,
      "outputs": [
        {
          "output_type": "stream",
          "name": "stdout",
          "text": [
            "Writing run_all_test_2100.sh\n"
          ]
        }
      ]
    },
    {
      "cell_type": "code",
      "source": [
        "!chmod u+x run_all_test_2100.sh\n",
        "!./run_all_test_2100.sh"
      ],
      "metadata": {
        "id": "YqDBETSXt_zy",
        "colab": {
          "base_uri": "https://localhost:8080/"
        },
        "outputId": "66a428d7-c84f-4eb2-bb76-d9198d647cef"
      },
      "execution_count": 112,
      "outputs": [
        {
          "output_type": "stream",
          "name": "stdout",
          "text": [
            "./run_all_test_2100.sh: line 5: lista_entrada150.txt: No such file or directory\n",
            "grep: resultado_esperado150.txt: No such file or directory\n"
          ]
        }
      ]
    },
    {
      "cell_type": "markdown",
      "metadata": {
        "id": "2beTmWFPOb_k"
      },
      "source": [
        "Count executed instructions in code and verify with inputs 1,2 and 3\n"
      ]
    },
    {
      "cell_type": "code",
      "execution_count": 113,
      "metadata": {
        "id": "iuByv4x1Ob_k",
        "colab": {
          "base_uri": "https://localhost:8080/"
        },
        "outputId": "94ad66f4-688b-4bbb-99e4-d944ff6a30a0"
      },
      "outputs": [
        {
          "output_type": "stream",
          "name": "stdout",
          "text": [
            "Writing max_pairwise_product_long_sort_execints.cpp\n"
          ]
        }
      ],
      "source": [
        "%%writefile max_pairwise_product_long_sort_execints.cpp\n",
        "#include <iostream>\n",
        "#include <algorithm>\n",
        "#include <vector>\n",
        "#include <cmath>\n",
        "\n",
        "int main() {                                              //N inst exec by line executed\n",
        "    int execints = 0;\n",
        "    int n;\n",
        "    execints++;\n",
        "\n",
        "    std::cin >> n;                                        //1\n",
        "    execints++;\n",
        "\n",
        "    std::vector<int> numbers(n);                          //1\n",
        "    execints++;\n",
        "\n",
        "    for (int i = 0; i < n; ++i) {\n",
        "        std::cin >> numbers[i];                           //n\n",
        "        execints++;\n",
        "    }\n",
        "\n",
        "    std::sort(numbers.begin(), numbers.end());              // n lg n\n",
        "    execints = execints + (n * log(n));\n",
        "\n",
        "    std::cout << numbers[n-1] * numbers[n-2] << \"\\n\";     // 4 + n lg n + n\n",
        "    std::cout << execints << \"\\n\";     // 4 + n lg n + n\n",
        "    return 0;                                             // --------------\n",
        "}"
      ]
    },
    {
      "cell_type": "code",
      "source": [
        "!g++ max_pairwise_product_long_sort_execints.cpp -o max_pairwise_product_long_sort_execints\n",
        "!./max_pairwise_product_long_sort_execints < input3.txt"
      ],
      "metadata": {
        "id": "FBMGWnD0VHdS",
        "colab": {
          "base_uri": "https://localhost:8080/"
        },
        "outputId": "1eba93a1-a97e-4e83-c1a3-bd53fe31343b"
      },
      "execution_count": 114,
      "outputs": [
        {
          "output_type": "stream",
          "name": "stdout",
          "text": [
            "1345294336\n",
            "19\n"
          ]
        }
      ]
    },
    {
      "cell_type": "markdown",
      "metadata": {
        "id": "x2CXhkwTOb_l"
      },
      "source": [
        "Calculate estimated time by instruction and number of instructions by second"
      ]
    },
    {
      "cell_type": "code",
      "source": [
        "0.03/19"
      ],
      "metadata": {
        "id": "v04bH6qGVd-j",
        "colab": {
          "base_uri": "https://localhost:8080/"
        },
        "outputId": "bd3b3c7e-c9d6-42ed-d085-f4cc14bd2175"
      },
      "execution_count": 115,
      "outputs": [
        {
          "output_type": "execute_result",
          "data": {
            "text/plain": [
              "0.0015789473684210526"
            ]
          },
          "metadata": {},
          "execution_count": 115
        }
      ]
    },
    {
      "cell_type": "markdown",
      "source": [
        "# Estimate the maximun n that can be solved in 1 second\n",
        "\n",
        "$$(n + n log n) \\times 0.001579 s = 1s$$\n",
        "\n",
        "$$ n \\approx 110000$$"
      ],
      "metadata": {
        "id": "3FCyEUQFVmcK"
      }
    },
    {
      "cell_type": "code",
      "execution_count": 116,
      "metadata": {
        "id": "nTjxyTMtOb_l",
        "colab": {
          "base_uri": "https://localhost:8080/"
        },
        "outputId": "0c378cf5-e408-4b2c-b673-f4474fe9fd6a"
      },
      "outputs": [
        {
          "output_type": "stream",
          "name": "stdout",
          "text": [
            "Overwriting WriteTest.cpp\n"
          ]
        }
      ],
      "source": [
        "%%writefile WriteTest.cpp\n",
        "\n",
        "#include <iostream>\n",
        "#include <fstream>\n",
        "#include <cstdlib>\n",
        "\n",
        "using namespace std;\n",
        "\n",
        "int main() {\n",
        "  // Create and open a text file\n",
        "  ofstream MyFile(\"input17.txt\");\n",
        "\n",
        " MyFile << 110000 <<\"\\n\";  // n\n",
        " for (int i=1; i <110001; i++){\n",
        "     MyFile << 110001-i <<\" \";\n",
        " }\n",
        "\n",
        "  // Close the file\n",
        "  MyFile.close();\n",
        "}"
      ]
    },
    {
      "cell_type": "code",
      "source": [
        "!g++ WriteTest.cpp -o WriteTest\n",
        "!./WriteTest"
      ],
      "metadata": {
        "id": "sG5CCpmIWdDw"
      },
      "execution_count": 117,
      "outputs": []
    },
    {
      "cell_type": "code",
      "source": [
        "!g++ max_pairwise_product_long_sort.cpp -o max_pairwise_product_long_sort\n",
        "!time ./max_pairwise_product_long_sort < input17.txt"
      ],
      "metadata": {
        "id": "beUZYjPhWkcI",
        "colab": {
          "base_uri": "https://localhost:8080/"
        },
        "outputId": "d97dd3b4-09c2-4f57-ba18-b22ac8d8f2dd"
      },
      "execution_count": 118,
      "outputs": [
        {
          "output_type": "stream",
          "name": "stdout",
          "text": [
            "-785011888\n",
            "\n",
            "real\t0m0.060s\n",
            "user\t0m0.056s\n",
            "sys\t0m0.002s\n"
          ]
        }
      ]
    },
    {
      "cell_type": "markdown",
      "metadata": {
        "id": "VMKC5duEOQfk"
      },
      "source": [
        "### Efficient solution largest and second-largest in an list, array or vector in C++ and Python\n",
        " $$2.5 n = O(n)$$\n",
        "\n",
        "\n",
        "\n"
      ]
    },
    {
      "cell_type": "markdown",
      "metadata": {
        "id": "nLcKBwbU0QsE"
      },
      "source": [
        "Add in each line a coment with the number of intstrcution that are executed in that line"
      ]
    },
    {
      "cell_type": "code",
      "execution_count": 119,
      "metadata": {
        "id": "knls5Fh3NSt_",
        "colab": {
          "base_uri": "https://localhost:8080/"
        },
        "outputId": "4bc05432-af87-4b8b-c9dc-6c7949b09b68"
      },
      "outputs": [
        {
          "output_type": "stream",
          "name": "stdout",
          "text": [
            "Writing max_pairwise_product_sort.py\n"
          ]
        }
      ],
      "source": [
        "%%writefile max_pairwise_product_sort.py\n",
        "def MaxPairwiseProduct(numbers):\n",
        "  n = len(numbers)\n",
        "  numbers.sort()\n",
        "  return numbers[n-1] * numbers[n-2]\n",
        "\n",
        "n = int(input())\n",
        "numbers = [int(i) for i in input().split()]\n",
        "print(MaxPairwiseProduct(numbers))"
      ]
    },
    {
      "cell_type": "markdown",
      "metadata": {
        "id": "-JCijbWxNSii"
      },
      "source": [
        "Test with inputs 1 and 2\n",
        "\n"
      ]
    },
    {
      "cell_type": "code",
      "execution_count": 120,
      "metadata": {
        "id": "TrTGAfqlNVXT",
        "colab": {
          "base_uri": "https://localhost:8080/"
        },
        "outputId": "66aac487-eff7-40e2-aae6-a65b4618628f"
      },
      "outputs": [
        {
          "output_type": "stream",
          "name": "stdout",
          "text": [
            "90\n",
            "90\n"
          ]
        }
      ],
      "source": [
        "!python3 max_pairwise_product_sort.py < input1.txt\n",
        "!python3 max_pairwise_product_sort.py < input2.txt"
      ]
    },
    {
      "cell_type": "markdown",
      "metadata": {
        "id": "PRX51wADNR8b"
      },
      "source": [
        "Test and time it with input 3"
      ]
    },
    {
      "cell_type": "code",
      "execution_count": 121,
      "metadata": {
        "id": "v4z7-Is_NRt7",
        "colab": {
          "base_uri": "https://localhost:8080/"
        },
        "outputId": "db909fe8-c5d9-4d36-91aa-2e37694061bb"
      },
      "outputs": [
        {
          "output_type": "stream",
          "name": "stdout",
          "text": [
            "40000000000\n",
            "\n",
            "real\t0m0.044s\n",
            "user\t0m0.036s\n",
            "sys\t0m0.007s\n"
          ]
        }
      ],
      "source": [
        "!time python3 max_pairwise_product_sort.py < input3.txt"
      ]
    },
    {
      "cell_type": "markdown",
      "metadata": {
        "id": "rpdfs0_TNZJf"
      },
      "source": [
        "20 stress tests"
      ]
    },
    {
      "cell_type": "code",
      "execution_count": 122,
      "metadata": {
        "id": "Lu4tYcKzNcTT",
        "colab": {
          "base_uri": "https://localhost:8080/"
        },
        "outputId": "eaec3edf-ef4c-4910-84c6-203bfea2ad4d"
      },
      "outputs": [
        {
          "output_type": "stream",
          "name": "stdout",
          "text": [
            "Overwriting run_all_test_2.sh\n"
          ]
        }
      ],
      "source": [
        " %%writefile run_all_test_2.sh\n",
        "#!/bin/bash\n",
        "for i in {4..10}\n",
        "do\n",
        "    python3 max_pairwise_product_sort.py < input$i.txt > ctest$i.txt\n",
        "    grep -xvFf output$i.txt ctest$i.txt\n",
        "done"
      ]
    },
    {
      "cell_type": "code",
      "source": [
        "!chmod u+x run_all_test_2.sh\n",
        "!./run_all_test_2.sh"
      ],
      "metadata": {
        "id": "53cdQCx3W_kA"
      },
      "execution_count": 123,
      "outputs": []
    },
    {
      "cell_type": "code",
      "source": [
        " %%writefile run_all_test_2100.sh\n",
        "#!/bin/bash\n",
        "for i in {30..150}\n",
        "do\n",
        "    python3 max_pairwise_product_sort.py < lista_entrada$i.txt > resultado$i.txt\n",
        "    grep -xvFf resultado_esperado$i.txt resultado$i.txt\n",
        "done"
      ],
      "metadata": {
        "id": "VIEIK8rjufq3",
        "colab": {
          "base_uri": "https://localhost:8080/"
        },
        "outputId": "f57f3405-c23c-4d4e-921d-3454d19742e6"
      },
      "execution_count": 124,
      "outputs": [
        {
          "output_type": "stream",
          "name": "stdout",
          "text": [
            "Overwriting run_all_test_2100.sh\n"
          ]
        }
      ]
    },
    {
      "cell_type": "code",
      "source": [
        "!chmod u+x run_all_test_2100.sh\n",
        "!./run_all_test_2100.sh"
      ],
      "metadata": {
        "id": "7jDY3kNtufTm",
        "colab": {
          "base_uri": "https://localhost:8080/"
        },
        "outputId": "296edc94-04f2-455a-8a12-8ba6982a0fa5"
      },
      "execution_count": 125,
      "outputs": [
        {
          "output_type": "stream",
          "name": "stdout",
          "text": [
            "./run_all_test_2100.sh: line 4: lista_entrada150.txt: No such file or directory\n",
            "grep: resultado_esperado150.txt: No such file or directory\n"
          ]
        }
      ]
    },
    {
      "cell_type": "markdown",
      "metadata": {
        "id": "L8U4151JNbxk"
      },
      "source": [
        "Count executed instructions in code and verify with inputs 1,2 and 3\n"
      ]
    },
    {
      "cell_type": "code",
      "execution_count": 126,
      "metadata": {
        "id": "dh85RM8vNhFz",
        "colab": {
          "base_uri": "https://localhost:8080/"
        },
        "outputId": "76293011-af57-444d-ca5c-1eb53e27d9c5"
      },
      "outputs": [
        {
          "output_type": "stream",
          "name": "stdout",
          "text": [
            "Overwriting max_pairwise_product_sort.py\n"
          ]
        }
      ],
      "source": [
        "%%writefile max_pairwise_product_sort.py\n",
        "import math\n",
        "\n",
        "def MaxPairwiseProduct(numbers):\n",
        "  global execints\n",
        "  n = len(numbers)\n",
        "  execints+=1\n",
        "  numbers.sort() # nlgn -- n\n",
        "  execints += n * math.log(n)\n",
        "  execints+=1\n",
        "  return numbers[n-1] * numbers[n-2]\n",
        "\n",
        "execints = 0\n",
        "n = int(input())\n",
        "execints+=1\n",
        "numbers = [int(i) for i in input().split()]\n",
        "execints+=1\n",
        "print(MaxPairwiseProduct(numbers))\n",
        "print(execints)"
      ]
    },
    {
      "cell_type": "code",
      "source": [
        "! python3 max_pairwise_product_sort.py < input3.txt"
      ],
      "metadata": {
        "id": "SFvOp-EYbDI4",
        "colab": {
          "base_uri": "https://localhost:8080/"
        },
        "outputId": "adbdaddc-c47b-4ff9-82f3-e91c8b131552"
      },
      "execution_count": 127,
      "outputs": [
        {
          "output_type": "stream",
          "name": "stdout",
          "text": [
            "40000000000\n",
            "14.75055681536833\n"
          ]
        }
      ]
    },
    {
      "cell_type": "markdown",
      "metadata": {
        "id": "K6ybgCmpNygr"
      },
      "source": [
        "Calculate estimated time by instruction and number of instructions by second"
      ]
    },
    {
      "cell_type": "code",
      "execution_count": 128,
      "metadata": {
        "id": "kwe3G1O3Nz1w",
        "colab": {
          "base_uri": "https://localhost:8080/"
        },
        "outputId": "467fb2cb-8411-4d72-b6eb-42a51a21611e"
      },
      "outputs": [
        {
          "output_type": "execute_result",
          "data": {
            "text/plain": [
              "0.0026"
            ]
          },
          "metadata": {},
          "execution_count": 128
        }
      ],
      "source": [
        "0.039/15"
      ]
    },
    {
      "cell_type": "markdown",
      "source": [
        "# Estimate the maximun n that can be solved in 1 second\n",
        "\n",
        "$$(n + n log n) \\times 0.0026 s = 1s$$\n",
        "\n",
        "$$ n \\approx 72000$$"
      ],
      "metadata": {
        "id": "WxLseGFab0ef"
      }
    },
    {
      "cell_type": "markdown",
      "metadata": {
        "id": "sUpIWcykOGpT"
      },
      "source": [
        "### Super efficient solution\n",
        "\n",
        "Whitout storing the list in memory, only stpring the largest and second largest and whitout calling a function, add in each line a coment with the number of instructions that are executed in that line\n",
        "\n",
        "in C++ and Python\n",
        " $$2 n = O(n)$$"
      ]
    },
    {
      "cell_type": "code",
      "execution_count": 129,
      "metadata": {
        "id": "hBLt_xBQLy8E",
        "colab": {
          "base_uri": "https://localhost:8080/"
        },
        "outputId": "834c978e-08e5-44bb-8a93-cc10317010dc"
      },
      "outputs": [
        {
          "output_type": "stream",
          "name": "stdout",
          "text": [
            "Writing max_pairwise_product_long_efficient.cpp\n"
          ]
        }
      ],
      "source": [
        "%%writefile max_pairwise_product_long_efficient.cpp\n",
        "\n",
        "#include <iostream>\n",
        "#include <vector>\n",
        "#include <algorithm>\n",
        "\n",
        "int main() {\n",
        "    int n;\n",
        "    int indice = 0;\n",
        "    long long max_product = 0LL;\n",
        "\t  long long aux_product = 0LL;\n",
        "    std::cin >> n;\n",
        "    std::vector<int> numbers(n);\n",
        "\n",
        "    for (int i = 0; i < n; ++i) {\n",
        "        std::cin >> numbers[i];\n",
        "        if(numbers[i] > aux_product){\n",
        "            aux_product = numbers[i];\n",
        "            indice = i;\n",
        "        }\n",
        "    }\n",
        "\n",
        "    max_product = aux_product;\n",
        "    aux_product = 0;\n",
        "\n",
        "    for (int i = 0; i < n; ++i) {\n",
        "        if(numbers[i] > aux_product){\n",
        "            if(indice != i){\n",
        "                aux_product = numbers[i];\n",
        "            }\n",
        "        }\n",
        "    }\n",
        "\n",
        "    std::cout << aux_product* max_product << \"\\n\";\n",
        "    return 0;\n",
        "}\n"
      ]
    },
    {
      "cell_type": "markdown",
      "metadata": {
        "id": "683gc3roHqzb"
      },
      "source": [
        "Test with inputs 1 and 2\n",
        "\n",
        "\n"
      ]
    },
    {
      "cell_type": "code",
      "execution_count": 130,
      "metadata": {
        "id": "b7d4LA8OIc2_",
        "colab": {
          "base_uri": "https://localhost:8080/"
        },
        "outputId": "41e753d9-8151-4647-a9bf-94b2727166cb"
      },
      "outputs": [
        {
          "output_type": "stream",
          "name": "stdout",
          "text": [
            "90\n",
            "90\n"
          ]
        }
      ],
      "source": [
        "!g++ max_pairwise_product_long_efficient.cpp -o max_pairwise_product_long_efficient\n",
        "!./max_pairwise_product_long_efficient < input1.txt\n",
        "!g++ max_pairwise_product_long_efficient.cpp -o max_pairwise_product_long_efficient\n",
        "!./max_pairwise_product_long_efficient < input2.txt"
      ]
    },
    {
      "cell_type": "markdown",
      "metadata": {
        "id": "36Ugn1odIeJz"
      },
      "source": [
        "Test and time it with input 3"
      ]
    },
    {
      "cell_type": "code",
      "execution_count": 131,
      "metadata": {
        "id": "jDyMbCnxHqSN",
        "colab": {
          "base_uri": "https://localhost:8080/"
        },
        "outputId": "c05909c8-24c1-49a1-876c-3454985be0d3"
      },
      "outputs": [
        {
          "output_type": "stream",
          "name": "stdout",
          "text": [
            "40000000000\n",
            "\n",
            "real\t0m0.004s\n",
            "user\t0m0.001s\n",
            "sys\t0m0.002s\n"
          ]
        }
      ],
      "source": [
        "!g++ max_pairwise_product_long_efficient.cpp -o max_pairwise_product_long_efficient\n",
        "!time ./max_pairwise_product_long_efficient < input3.txt"
      ]
    },
    {
      "cell_type": "markdown",
      "metadata": {
        "id": "bhqiKQG6fjKM"
      },
      "source": [
        "20 stress tests"
      ]
    },
    {
      "cell_type": "code",
      "execution_count": 132,
      "metadata": {
        "id": "2KsiXKhALzwm",
        "colab": {
          "base_uri": "https://localhost:8080/"
        },
        "outputId": "a6f5ecc5-fa8c-45b5-80b6-943761e2f9ad"
      },
      "outputs": [
        {
          "output_type": "stream",
          "name": "stdout",
          "text": [
            "Writing run_all_test_3.sh\n"
          ]
        }
      ],
      "source": [
        " %%writefile run_all_test_3.sh\n",
        "#!/bin/bash\n",
        "g++ max_pairwise_product_long_efficient.cpp -o max_pairwise_product_long_efficient\n",
        "for i in {4..10}\n",
        "do\n",
        "    ./max_pairwise_product_long_efficient < input$i.txt > ctest$i.txt\n",
        "    grep -xvFf output$i.txt ctest$i.txt\n",
        "done"
      ]
    },
    {
      "cell_type": "code",
      "source": [
        "!chmod u+x run_all_test_3.sh\n",
        "!./run_all_test_2.sh"
      ],
      "metadata": {
        "id": "NeeCK-4LKORB",
        "colab": {
          "base_uri": "https://localhost:8080/"
        },
        "outputId": "b043a515-c718-40d5-bb54-0697b3d80fad"
      },
      "execution_count": 133,
      "outputs": [
        {
          "output_type": "stream",
          "name": "stdout",
          "text": [
            "17.621371043387192\n",
            "5.386294361119891\n",
            "20.635532333438686\n",
            "12.047189562170502\n",
            "7.295836866004329\n",
            "9.545177444479563\n",
            "7.295836866004329\n"
          ]
        }
      ]
    },
    {
      "cell_type": "code",
      "source": [
        " %%writefile run_all_test_3100.sh\n",
        "#!/bin/bash\n",
        "g++ max_pairwise_product_long_efficient.cpp -o max_pairwise_product_long_efficient\n",
        "for i in {30..150}\n",
        "do\n",
        "    ./max_pairwise_product_long_efficient < lista_entrada$i.txt > resultado$i.txt\n",
        "    grep -xvFf resultado_esperado$i.txt resultado$i.txt\n",
        "done"
      ],
      "metadata": {
        "id": "4TEMyGrEur_9",
        "colab": {
          "base_uri": "https://localhost:8080/"
        },
        "outputId": "48ef2224-41c8-4dc3-c19a-b62b6aa41a80"
      },
      "execution_count": 134,
      "outputs": [
        {
          "output_type": "stream",
          "name": "stdout",
          "text": [
            "Writing run_all_test_3100.sh\n"
          ]
        }
      ]
    },
    {
      "cell_type": "code",
      "source": [
        "!chmod u+x run_all_test_3100.sh\n",
        "!./run_all_test_3100.sh"
      ],
      "metadata": {
        "id": "0aAfxVMlutJa",
        "colab": {
          "base_uri": "https://localhost:8080/"
        },
        "outputId": "0091acd0-a638-49cf-90c7-0f185dfecfe8"
      },
      "execution_count": 135,
      "outputs": [
        {
          "output_type": "stream",
          "name": "stdout",
          "text": [
            "./run_all_test_3100.sh: line 5: lista_entrada150.txt: No such file or directory\n",
            "grep: resultado_esperado150.txt: No such file or directory\n"
          ]
        }
      ]
    },
    {
      "cell_type": "markdown",
      "metadata": {
        "id": "fEXj8GHJH5p1"
      },
      "source": [
        "Count executed instructions in code and verify with inputs 1,2 and 3"
      ]
    },
    {
      "cell_type": "code",
      "execution_count": 136,
      "metadata": {
        "id": "LF1DHjKXIAsF",
        "colab": {
          "base_uri": "https://localhost:8080/"
        },
        "outputId": "77b42d37-7437-4f97-b298-3005bb0658f9"
      },
      "outputs": [
        {
          "output_type": "stream",
          "name": "stdout",
          "text": [
            "Writing max_pairwise_product_long_efficient_execints.cpp\n"
          ]
        }
      ],
      "source": [
        "%%writefile max_pairwise_product_long_efficient_execints.cpp\n",
        "\n",
        "#include <iostream>\n",
        "#include <vector>\n",
        "#include <algorithm>\n",
        "\n",
        "int main() {\n",
        "    int execints = 0;\n",
        "    int n;\n",
        "    execints++;\n",
        "\n",
        "    int indice = 0;\n",
        "    execints++;\n",
        "\n",
        "    long long max_product = 0LL;\n",
        "    execints++;\n",
        "\n",
        "\t  long long aux_product = 0LL;\n",
        "    execints++;\n",
        "\n",
        "    std::cin >> n;\n",
        "    execints++;\n",
        "\n",
        "    std::vector<int> numbers(n);\n",
        "    execints++;\n",
        "\n",
        "    for (int i = 0; i < n; ++i) {\n",
        "        std::cin >> numbers[i];\n",
        "        execints++;\n",
        "\n",
        "        execints++;\n",
        "        if(numbers[i] > aux_product){\n",
        "            aux_product = numbers[i];\n",
        "            execints++;\n",
        "            indice = i;\n",
        "            execints++;\n",
        "        }\n",
        "    }\n",
        "\n",
        "\n",
        "    max_product = aux_product;\n",
        "    execints++;\n",
        "\n",
        "    aux_product = 0;\n",
        "    execints++;\n",
        "\n",
        "    for (int i = 0; i < n; ++i) {\n",
        "      execints++;\n",
        "\n",
        "        execints++;\n",
        "        if(numbers[i] > aux_product){\n",
        "\n",
        "            execints++;\n",
        "            if(indice != i){\n",
        "              execints++;\n",
        "                aux_product = numbers[i];\n",
        "            }\n",
        "        }\n",
        "    }\n",
        "\n",
        "    std::cout << execints << \"\\n\";\n",
        "    return 0;\n",
        "}"
      ]
    },
    {
      "cell_type": "code",
      "source": [
        "!g++ max_pairwise_product_long_efficient_execints.cpp -o max_pairwise_product_long_efficient_execints\n",
        "!./max_pairwise_product_long_efficient_execints < input3.txt"
      ],
      "metadata": {
        "id": "AIQICsrAc9GD",
        "colab": {
          "base_uri": "https://localhost:8080/"
        },
        "outputId": "c699eac7-1065-45c7-99b7-fd5299e8854f"
      },
      "execution_count": 137,
      "outputs": [
        {
          "output_type": "stream",
          "name": "stdout",
          "text": [
            "47\n"
          ]
        }
      ]
    },
    {
      "cell_type": "markdown",
      "metadata": {
        "id": "yae7sSm2IG9U"
      },
      "source": [
        "Calculate estimated time by instruction and number of instructions by second"
      ]
    },
    {
      "cell_type": "code",
      "execution_count": 138,
      "metadata": {
        "id": "suouY7BYL2dz",
        "colab": {
          "base_uri": "https://localhost:8080/"
        },
        "outputId": "00a0b980-4d60-41b5-e24d-ff39afd9b274"
      },
      "outputs": [
        {
          "output_type": "execute_result",
          "data": {
            "text/plain": [
              "4.2553191489361704e-05"
            ]
          },
          "metadata": {},
          "execution_count": 138
        }
      ],
      "source": [
        "0.002/47"
      ]
    },
    {
      "cell_type": "markdown",
      "source": [
        "# Estimate the maximun n that can be solved in 1 second\n",
        "\n",
        "$$(2n) \\times 4.255 *10^{-5} s = 1s$$\n",
        "\n",
        "$$ n \\approx 11000$$"
      ],
      "metadata": {
        "id": "T_hmkfuAdJHn"
      }
    },
    {
      "cell_type": "markdown",
      "metadata": {
        "id": "sy33CNNfPxcE"
      },
      "source": [
        "### Super efficient solution in Python\n",
        "\n",
        "Whitout storing the list in memory and whitout calling a function, add in each line a coment with the number of intstrcution that are executed in that line"
      ]
    },
    {
      "cell_type": "code",
      "execution_count": 139,
      "metadata": {
        "id": "_mOjJwKrPxcJ",
        "colab": {
          "base_uri": "https://localhost:8080/"
        },
        "outputId": "fe0df688-5660-45b5-cc1d-ffaf58d812c7"
      },
      "outputs": [
        {
          "output_type": "stream",
          "name": "stdout",
          "text": [
            "Writing max_pairwise_product_efficient.py\n"
          ]
        }
      ],
      "source": [
        "%%writefile max_pairwise_product_efficient.py\n",
        "n = int(input())\n",
        "max = 0\n",
        "max_mayor = 0\n",
        "indice_mayor = 0\n",
        "numbers = [int(i) for i in input().split()]\n",
        "\n",
        "for i in range (len(numbers)):\n",
        "  if numbers[i]>max:\n",
        "    max = numbers[i]\n",
        "    indice_mayor = i\n",
        "\n",
        "max_mayor = max\n",
        "max = 0\n",
        "\n",
        "for i in range (len(numbers)):\n",
        "  if numbers[i]>max and i != indice_mayor:\n",
        "    max = numbers[i]\n",
        "\n",
        "print(max_mayor*max)"
      ]
    },
    {
      "cell_type": "markdown",
      "metadata": {
        "id": "K08Eow0hPxcJ"
      },
      "source": [
        "Test with inputs 1 and 2\n",
        "\n",
        "\n"
      ]
    },
    {
      "cell_type": "code",
      "execution_count": 140,
      "metadata": {
        "id": "1_mUee2cPxcJ",
        "colab": {
          "base_uri": "https://localhost:8080/"
        },
        "outputId": "3f735095-703b-4795-95d3-941f6385b971"
      },
      "outputs": [
        {
          "output_type": "stream",
          "name": "stdout",
          "text": [
            "90\n",
            "90\n"
          ]
        }
      ],
      "source": [
        "!python3 max_pairwise_product_efficient.py < input1.txt\n",
        "!python3 max_pairwise_product_efficient.py < input2.txt"
      ]
    },
    {
      "cell_type": "markdown",
      "metadata": {
        "id": "CE5DB3CmPxcJ"
      },
      "source": [
        "Test and time it with input 3"
      ]
    },
    {
      "cell_type": "code",
      "execution_count": 141,
      "metadata": {
        "id": "lyLhFOoePxcJ",
        "colab": {
          "base_uri": "https://localhost:8080/"
        },
        "outputId": "b283ae95-7f37-456b-f601-1d129191bcec"
      },
      "outputs": [
        {
          "output_type": "stream",
          "name": "stdout",
          "text": [
            "40000000000\n",
            "\n",
            "real\t0m0.045s\n",
            "user\t0m0.037s\n",
            "sys\t0m0.007s\n"
          ]
        }
      ],
      "source": [
        "!time python3 max_pairwise_product_efficient.py < input3.txt"
      ]
    },
    {
      "cell_type": "markdown",
      "metadata": {
        "id": "HZEI236lPxcK"
      },
      "source": [
        "20 stress tests"
      ]
    },
    {
      "cell_type": "code",
      "execution_count": 142,
      "metadata": {
        "id": "_LoV-p4zPxcK",
        "colab": {
          "base_uri": "https://localhost:8080/"
        },
        "outputId": "28bda526-cfc5-4e88-8f5c-e331bbe95615"
      },
      "outputs": [
        {
          "output_type": "stream",
          "name": "stdout",
          "text": [
            "Overwriting run_all_test_3.sh\n"
          ]
        }
      ],
      "source": [
        " %%writefile run_all_test_3.sh\n",
        "#!/bin/bash\n",
        "for i in {4..10}\n",
        "do\n",
        "    python3 max_pairwise_product_efficient.py < input$i.txt > ctest$i.txt\n",
        "    grep -xvFf output$i.txt ctest$i.txt\n",
        "done"
      ]
    },
    {
      "cell_type": "code",
      "source": [
        "!chmod u+x run_all_test_3.sh\n",
        "!./run_all_test_2.sh"
      ],
      "metadata": {
        "id": "8W6qz_1AdwNN",
        "colab": {
          "base_uri": "https://localhost:8080/"
        },
        "outputId": "bda274ca-34fb-4527-d892-ecbedc878826"
      },
      "execution_count": 143,
      "outputs": [
        {
          "output_type": "stream",
          "name": "stdout",
          "text": [
            "17.621371043387192\n",
            "5.386294361119891\n",
            "20.635532333438686\n",
            "12.047189562170502\n",
            "7.295836866004329\n",
            "9.545177444479563\n",
            "7.295836866004329\n"
          ]
        }
      ]
    },
    {
      "cell_type": "code",
      "source": [
        " %%writefile run_all_test_3100.sh\n",
        "#!/bin/bash\n",
        "for i in {30..150}\n",
        "do\n",
        "    python3 max_pairwise_product_efficient.py < lista_entrada$i.txt > resultado$i.txt\n",
        "    grep -xvFf resultado_esperado$i.txt resultado$i.txt\n",
        "done"
      ],
      "metadata": {
        "id": "y3WLI_9vu_6q",
        "colab": {
          "base_uri": "https://localhost:8080/"
        },
        "outputId": "ad533c8b-6b76-4f61-81fc-9a2603610858"
      },
      "execution_count": 144,
      "outputs": [
        {
          "output_type": "stream",
          "name": "stdout",
          "text": [
            "Overwriting run_all_test_3100.sh\n"
          ]
        }
      ]
    },
    {
      "cell_type": "code",
      "source": [
        "!chmod u+x run_all_test_3100.sh\n",
        "!./run_all_test_3100.sh"
      ],
      "metadata": {
        "id": "QaDNcrlNvBq0",
        "colab": {
          "base_uri": "https://localhost:8080/"
        },
        "outputId": "3c775bc1-d7aa-44f8-e16c-c3d0d6f4b44e"
      },
      "execution_count": 145,
      "outputs": [
        {
          "output_type": "stream",
          "name": "stdout",
          "text": [
            "./run_all_test_3100.sh: line 4: lista_entrada150.txt: No such file or directory\n",
            "grep: resultado_esperado150.txt: No such file or directory\n"
          ]
        }
      ]
    },
    {
      "cell_type": "markdown",
      "metadata": {
        "id": "IRVdP3iuPxcK"
      },
      "source": [
        "Count executed instructions in code and verify with inputs 1,2 and 3"
      ]
    },
    {
      "cell_type": "code",
      "execution_count": 146,
      "metadata": {
        "id": "RghJOg78PxcK",
        "colab": {
          "base_uri": "https://localhost:8080/"
        },
        "outputId": "7a05da6b-f2cd-4d33-f4fd-054d5b2f99ae"
      },
      "outputs": [
        {
          "output_type": "stream",
          "name": "stdout",
          "text": [
            "Writing max_pairwise_product_efficient_execints.py\n"
          ]
        }
      ],
      "source": [
        "%%writefile max_pairwise_product_efficient_execints.py\n",
        "execints = 0\n",
        "n = int(input())\n",
        "execints += 1\n",
        "max = 0\n",
        "execints += 1\n",
        "max_mayor = 0\n",
        "execints += 1\n",
        "indice_mayor = 0\n",
        "execints += 1\n",
        "numbers = [int(i) for i in input().split()]\n",
        "execints += 2 * n\n",
        "\n",
        "for i in range (len(numbers)):\n",
        "  execints += 1\n",
        "\n",
        "  execints += 1\n",
        "  if numbers[i]>max:\n",
        "    execints += 1\n",
        "    max = numbers[i]\n",
        "    execints += 1\n",
        "    indice_mayor = i\n",
        "\n",
        "execints += 1\n",
        "max_mayor = max\n",
        "max = 0\n",
        "execints += 1\n",
        "\n",
        "for i in range (len(numbers)):\n",
        "  execints += 1\n",
        "\n",
        "  execints += 1\n",
        "  if numbers[i]>max and i != indice_mayor:\n",
        "    max = numbers[i]\n",
        "    execints += 1\n",
        "\n",
        "print(execints)"
      ]
    },
    {
      "cell_type": "code",
      "source": [
        "!python3 max_pairwise_product_efficient_execints.py < input3.txt"
      ],
      "metadata": {
        "id": "P11DbpFxedPy",
        "colab": {
          "base_uri": "https://localhost:8080/"
        },
        "outputId": "d1cc08f9-8e01-45a8-ed2e-2633ee14a8e8"
      },
      "execution_count": 147,
      "outputs": [
        {
          "output_type": "stream",
          "name": "stdout",
          "text": [
            "52\n"
          ]
        }
      ]
    },
    {
      "cell_type": "markdown",
      "metadata": {
        "id": "R6qeUjPaPxcK"
      },
      "source": [
        "Calculate estimated time by instruction and number of instructions by second"
      ]
    },
    {
      "cell_type": "code",
      "execution_count": 148,
      "metadata": {
        "id": "iLdXYvn3PxcK",
        "colab": {
          "base_uri": "https://localhost:8080/"
        },
        "outputId": "7a7ba90b-b340-4c29-e22a-f22bd54bad14"
      },
      "outputs": [
        {
          "output_type": "execute_result",
          "data": {
            "text/plain": [
              "0.0006173076923076923"
            ]
          },
          "metadata": {},
          "execution_count": 148
        }
      ],
      "source": [
        "0.0321 / 52"
      ]
    },
    {
      "cell_type": "markdown",
      "source": [
        "# Estimate the maximun n that can be solved in 1 second\n",
        "\n",
        "$$(2n) \\times 0.000617 s = 1s$$\n",
        "\n",
        "$$ n \\approx 8100$$"
      ],
      "metadata": {
        "id": "-ci-TMmsex2C"
      }
    }
  ],
  "metadata": {
    "colab": {
      "provenance": []
    },
    "kernelspec": {
      "display_name": "Python 3",
      "name": "python3"
    },
    "language_info": {
      "name": "python"
    }
  },
  "nbformat": 4,
  "nbformat_minor": 0
}